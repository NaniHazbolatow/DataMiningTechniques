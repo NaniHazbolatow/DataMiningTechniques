{
 "cells": [
  {
   "cell_type": "code",
   "id": "initial_id",
   "metadata": {
    "collapsed": true,
    "ExecuteTime": {
     "end_time": "2025-05-04T12:36:37.026884Z",
     "start_time": "2025-05-04T12:35:55.838437Z"
    }
   },
   "source": [
    "import pandas as pd\n",
    "import numpy as np\n",
    "\n",
    "# loading in the training and test datasets\n",
    "train_data = pd.read_csv('dmt-2025-2nd-assignment/training_set_VU_DM.csv')\n",
    "test_data = pd.read_csv('dmt-2025-2nd-assignment/test_set_VU_DM.csv')"
   ],
   "outputs": [],
   "execution_count": 2
  },
  {
   "metadata": {
    "ExecuteTime": {
     "end_time": "2025-05-04T12:37:39.360326Z",
     "start_time": "2025-05-04T12:37:27.342188Z"
    }
   },
   "cell_type": "code",
   "source": [
    "# The assignment said there are nearly 5 million observations, verifying\n",
    "print(train_data.shape) # (4958347, 54)\n",
    "print(test_data.shape)  # (4959183, 50)\n",
    "  \n",
    "# The training data contains four columns that are not in the testing data. I will look at observations only where a booking was made\n",
    "print(train_data[train_data['gross_bookings_usd'].notna()][['position', 'click_bool', 'booking_bool', 'gross_bookings_usd']].head(10))\n",
    "\n",
    "# What about observations where no booking was made?\n",
    "print(train_data[train_data['gross_bookings_usd'].isna()][['position', 'click_bool', 'booking_bool', 'gross_bookings_usd']].head(10))"
   ],
   "id": "aacc4caa8a60630e",
   "outputs": [
    {
     "name": "stdout",
     "output_type": "stream",
     "text": [
      "(4958347, 54)\n",
      "(4959183, 50)\n",
      "     position  click_bool  booking_bool  gross_bookings_usd\n",
      "12         13           1             1              114.29\n",
      "63          1           1             1              162.38\n",
      "68         16           1             1               96.41\n",
      "194         4           1             1              222.58\n",
      "211        22           1             1               47.10\n",
      "243        26           1             1              286.32\n",
      "274         1           1             1             1927.64\n",
      "312        13           1             1             1831.30\n",
      "346         4           1             1              226.76\n",
      "387         1           1             1               60.77\n",
      "   position  click_bool  booking_bool  gross_bookings_usd\n",
      "0        27           0             0                 NaN\n",
      "1        26           0             0                 NaN\n",
      "2        21           0             0                 NaN\n",
      "3        34           0             0                 NaN\n",
      "4         4           0             0                 NaN\n",
      "5         7           0             0                 NaN\n",
      "6        18           0             0                 NaN\n",
      "7        35           0             0                 NaN\n",
      "8         3           0             0                 NaN\n",
      "9        10           0             0                 NaN\n"
     ]
    }
   ],
   "execution_count": 3
  },
  {
   "metadata": {},
   "cell_type": "code",
   "outputs": [],
   "execution_count": null,
   "source": "",
   "id": "5ba2a40fb7c3920d"
  }
 ],
 "metadata": {
  "kernelspec": {
   "display_name": "Python 3",
   "language": "python",
   "name": "python3"
  },
  "language_info": {
   "codemirror_mode": {
    "name": "ipython",
    "version": 2
   },
   "file_extension": ".py",
   "mimetype": "text/x-python",
   "name": "python",
   "nbconvert_exporter": "python",
   "pygments_lexer": "ipython2",
   "version": "2.7.6"
  }
 },
 "nbformat": 4,
 "nbformat_minor": 5
}
