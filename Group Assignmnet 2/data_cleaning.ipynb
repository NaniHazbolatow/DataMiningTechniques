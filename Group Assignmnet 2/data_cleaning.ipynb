{
 "cells": [
  {
   "cell_type": "code",
   "id": "c7408fdd",
   "metadata": {
    "ExecuteTime": {
     "end_time": "2025-05-15T18:33:54.617538Z",
     "start_time": "2025-05-15T18:33:54.612320Z"
    }
   },
   "source": [
    "# Import necessary libraries\n",
    "import numpy as np\n",
    "import polars as pl\n",
    "import seaborn as sns\n",
    "from functools import reduce\n",
    "import matplotlib.pyplot as plt"
   ],
   "outputs": [],
   "execution_count": 61
  },
  {
   "cell_type": "code",
   "id": "8c0c61d2",
   "metadata": {
    "ExecuteTime": {
     "end_time": "2025-05-15T18:34:01.995531Z",
     "start_time": "2025-05-15T18:33:56.505438Z"
    }
   },
   "source": [
    "# Import data using Polars\n",
    "train_df = pl.read_csv(\n",
    "    source = \"dmt-2025-2nd-assignment/training_set_VU_DM.csv\", # THIS IS THE TEST SET\n",
    "    null_values=[\"null\", \"NaN\", \"NULL\"]\n",
    "    )\n",
    "\n",
    "# Print basic information about the data\n",
    "#print(train_df.head())\n",
    "#print(train_df.shape)"
   ],
   "outputs": [],
   "execution_count": 62
  },
  {
   "cell_type": "code",
   "id": "648f3fbf",
   "metadata": {
    "ExecuteTime": {
     "end_time": "2025-05-15T18:34:02.825146Z",
     "start_time": "2025-05-15T18:34:02.817549Z"
    }
   },
   "source": [
    "# We note that the data contains 3 buckets of information:\n",
    "# 1) Customer information \n",
    "# 2) Property information \n",
    "# 3) Search information\n",
    "# X) Competitor information\n",
    "\n",
    "def get_columns(df: pl.DataFrame) -> dict:\n",
    "    visitor_cols = [col for col in df.columns if \"visitor_\" in col]\n",
    "    \n",
    "    search_cols = [col for col in df.columns if any(substr in col for substr in [\n",
    "        \"srch_\", \"search_\", \"day_of_week\", \"month\", \"date_time\", \"weekend\", \"holiday\"\n",
    "    ])]\n",
    "    \n",
    "    booking_cols = [col for col in df.columns if any(substr in col for substr in [\n",
    "        \"prop_\", \"price\", \"promotion\", \"position\", \"click_bool\", \"booking_bool\"\n",
    "    ]) and col not in search_cols]\n",
    "\n",
    "    return {\n",
    "        \"visitor\": visitor_cols,\n",
    "        \"search\": search_cols,\n",
    "        \"booking\": booking_cols\n",
    "    }\n",
    "\n",
    "# Get the columns for each category\n",
    "columns = get_columns(train_df)\n",
    "print(\"Visitor columns:\", columns[\"visitor\"])\n",
    "print(\"Search columns:\", columns[\"search\"])\n",
    "print(\"Booking columns:\", columns[\"booking\"])"
   ],
   "outputs": [
    {
     "name": "stdout",
     "output_type": "stream",
     "text": [
      "Visitor columns: ['visitor_location_country_id', 'visitor_hist_starrating', 'visitor_hist_adr_usd']\n",
      "Search columns: ['srch_id', 'date_time', 'srch_destination_id', 'srch_length_of_stay', 'srch_booking_window', 'srch_adults_count', 'srch_children_count', 'srch_room_count', 'srch_saturday_night_bool', 'srch_query_affinity_score']\n",
      "Booking columns: ['prop_country_id', 'prop_id', 'prop_starrating', 'prop_review_score', 'prop_brand_bool', 'prop_location_score1', 'prop_location_score2', 'prop_log_historical_price', 'price_usd', 'promotion_flag']\n"
     ]
    }
   ],
   "execution_count": 63
  },
  {
   "cell_type": "markdown",
   "id": "91a826a5",
   "metadata": {},
   "source": [
    "### (1.1) Clean Visitor Columns"
   ]
  },
  {
   "cell_type": "code",
   "id": "1d2ed0c9",
   "metadata": {
    "ExecuteTime": {
     "end_time": "2025-05-15T18:34:07.490284Z",
     "start_time": "2025-05-15T18:34:07.247884Z"
    }
   },
   "source": [
    "\n",
    "# We first clean the visitor columns\n",
    "train_df.select(\n",
    "    columns[\"visitor\"]\n",
    ").describe()\n",
    "\n",
    "def process_visitor_history(df: pl.DataFrame) -> pl.DataFrame:\n",
    "    return df.with_columns([\n",
    "        # Ensure correct data type\n",
    "        pl.col(\"visitor_hist_starrating\").cast(pl.Float64),\n",
    "        pl.col(\"visitor_hist_adr_usd\").cast(pl.Float64),\n",
    "\n",
    "        # Binary flags for whether information is available\n",
    "        pl.col(\"visitor_hist_starrating\").is_not_null().cast(pl.Int8).alias(\"visitor_has_starrating_info\"),\n",
    "        pl.col(\"visitor_hist_adr_usd\").is_not_null().cast(pl.Int8).alias(\"visitor_has_adr_info\"),\n",
    "\n",
    "        # Fill nulls with sentinel (-1) for dense model inputs\n",
    "        pl.col(\"visitor_hist_starrating\").fill_null(-1).alias(\"visitor_hist_starrating_dense\").cast(pl.Float64),\n",
    "        pl.col(\"visitor_hist_adr_usd\").fill_null(-1).alias(\"visitor_hist_adr_usd_dense\").cast(pl.Float64)\n",
    "    ])\n",
    "\n",
    "# Input visitor feature for the model \n",
    "# Now, models will learn that -1 means no information available\n",
    "process_visitor_history(train_df).select(\n",
    "    [\n",
    "        \"visitor_has_starrating_info\",\n",
    "        \"visitor_has_adr_info\",\n",
    "        \"visitor_hist_starrating_dense\",\n",
    "        \"visitor_hist_adr_usd_dense\"\n",
    "    ]\n",
    ").describe()"
   ],
   "outputs": [
    {
     "data": {
      "text/plain": [
       "shape: (9, 5)\n",
       "┌────────────┬─────────────────────┬─────────────────────┬────────────────────┬────────────────────┐\n",
       "│ statistic  ┆ visitor_has_starrat ┆ visitor_has_adr_inf ┆ visitor_hist_starr ┆ visitor_hist_adr_u │\n",
       "│ ---        ┆ ing_info            ┆ o                   ┆ ating_dense        ┆ sd_dense           │\n",
       "│ str        ┆ ---                 ┆ ---                 ┆ ---                ┆ ---                │\n",
       "│            ┆ f64                 ┆ f64                 ┆ f64                ┆ f64                │\n",
       "╞════════════╪═════════════════════╪═════════════════════╪════════════════════╪════════════════════╡\n",
       "│ count      ┆ 4.959183e6          ┆ 4.959183e6          ┆ 4.959183e6         ┆ 4.959183e6         │\n",
       "│ null_count ┆ 0.0                 ┆ 0.0                 ┆ 0.0                ┆ 0.0                │\n",
       "│ mean       ┆ 0.051103            ┆ 0.051344            ┆ -0.776426          ┆ 8.146961           │\n",
       "│ std        ┆ 0.220209            ┆ 0.220698            ┆ 0.976013           ┆ 46.503056          │\n",
       "│ min        ┆ 0.0                 ┆ 0.0                 ┆ -1.0               ┆ -1.0               │\n",
       "│ 25%        ┆ 0.0                 ┆ 0.0                 ┆ -1.0               ┆ -1.0               │\n",
       "│ 50%        ┆ 0.0                 ┆ 0.0                 ┆ -1.0               ┆ -1.0               │\n",
       "│ 75%        ┆ 0.0                 ┆ 0.0                 ┆ -1.0               ┆ -1.0               │\n",
       "│ max        ┆ 1.0                 ┆ 1.0                 ┆ 5.0                ┆ 2768.93            │\n",
       "└────────────┴─────────────────────┴─────────────────────┴────────────────────┴────────────────────┘"
      ],
      "text/html": [
       "<div><style>\n",
       ".dataframe > thead > tr,\n",
       ".dataframe > tbody > tr {\n",
       "  text-align: right;\n",
       "  white-space: pre-wrap;\n",
       "}\n",
       "</style>\n",
       "<small>shape: (9, 5)</small><table border=\"1\" class=\"dataframe\"><thead><tr><th>statistic</th><th>visitor_has_starrating_info</th><th>visitor_has_adr_info</th><th>visitor_hist_starrating_dense</th><th>visitor_hist_adr_usd_dense</th></tr><tr><td>str</td><td>f64</td><td>f64</td><td>f64</td><td>f64</td></tr></thead><tbody><tr><td>&quot;count&quot;</td><td>4.959183e6</td><td>4.959183e6</td><td>4.959183e6</td><td>4.959183e6</td></tr><tr><td>&quot;null_count&quot;</td><td>0.0</td><td>0.0</td><td>0.0</td><td>0.0</td></tr><tr><td>&quot;mean&quot;</td><td>0.051103</td><td>0.051344</td><td>-0.776426</td><td>8.146961</td></tr><tr><td>&quot;std&quot;</td><td>0.220209</td><td>0.220698</td><td>0.976013</td><td>46.503056</td></tr><tr><td>&quot;min&quot;</td><td>0.0</td><td>0.0</td><td>-1.0</td><td>-1.0</td></tr><tr><td>&quot;25%&quot;</td><td>0.0</td><td>0.0</td><td>-1.0</td><td>-1.0</td></tr><tr><td>&quot;50%&quot;</td><td>0.0</td><td>0.0</td><td>-1.0</td><td>-1.0</td></tr><tr><td>&quot;75%&quot;</td><td>0.0</td><td>0.0</td><td>-1.0</td><td>-1.0</td></tr><tr><td>&quot;max&quot;</td><td>1.0</td><td>1.0</td><td>5.0</td><td>2768.93</td></tr></tbody></table></div>"
      ]
     },
     "execution_count": 64,
     "metadata": {},
     "output_type": "execute_result"
    }
   ],
   "execution_count": 64
  },
  {
   "cell_type": "code",
   "id": "dfa6b5e3",
   "metadata": {
    "ExecuteTime": {
     "end_time": "2025-05-15T18:34:11.912404Z",
     "start_time": "2025-05-15T18:34:11.906745Z"
    }
   },
   "source": [
    "def process_date_time(df: pl.DataFrame) -> pl.DataFrame:\n",
    "    df = df.with_columns([\n",
    "        # Parse date_time string into datetime format\n",
    "        pl.col(\"date_time\").str.strptime(pl.Datetime, \"%Y-%m-%d %H:%M:%S\").alias(\"parsed_date\")\n",
    "    ])\n",
    "    \n",
    "    df = df.with_columns([\n",
    "        # Extract year, month, day, hour, and weekday from parsed date\n",
    "        # Create a binary flag for weekend searches (Saturday and Sunday)\n",
    "        pl.col(\"parsed_date\").dt.year().alias(\"year\"),\n",
    "        pl.col(\"parsed_date\").dt.month().alias(\"month\"),\n",
    "        pl.col(\"parsed_date\").dt.day().alias(\"day\"), \n",
    "        pl.col(\"parsed_date\").dt.hour().alias(\"search_hour\"),\n",
    "        pl.col(\"parsed_date\").dt.weekday().alias(\"day_of_week\"),  \n",
    "        pl.col(\"parsed_date\").dt.weekday().is_in([6, 7]).cast(pl.Int8).alias(\"is_weekend_search\"),\n",
    "        (\n",
    "            pl.col(\"parsed_date\").dt.year().cast(pl.Utf8) + \n",
    "            pl.col(\"parsed_date\").dt.month().cast(pl.Utf8).str.zfill(2)\n",
    "        ).alias(\"year_month\")\n",
    "    ])\n",
    "    \n",
    "    return df\n"
   ],
   "outputs": [],
   "execution_count": 65
  },
  {
   "cell_type": "code",
   "id": "a8636ab6",
   "metadata": {
    "ExecuteTime": {
     "end_time": "2025-05-15T18:34:13.205587Z",
     "start_time": "2025-05-15T18:34:12.867866Z"
    }
   },
   "source": [
    "train_df = process_date_time(train_df)\n",
    "train_df.select([\"year\", \"month\", \"day_of_week\", \"is_weekend_search\"]).describe()"
   ],
   "outputs": [
    {
     "data": {
      "text/plain": [
       "shape: (9, 5)\n",
       "┌────────────┬─────────────┬────────────┬─────────────┬───────────────────┐\n",
       "│ statistic  ┆ year        ┆ month      ┆ day_of_week ┆ is_weekend_search │\n",
       "│ ---        ┆ ---         ┆ ---        ┆ ---         ┆ ---               │\n",
       "│ str        ┆ f64         ┆ f64        ┆ f64         ┆ f64               │\n",
       "╞════════════╪═════════════╪════════════╪═════════════╪═══════════════════╡\n",
       "│ count      ┆ 4.959183e6  ┆ 4.959183e6 ┆ 4.959183e6  ┆ 4.959183e6        │\n",
       "│ null_count ┆ 0.0         ┆ 0.0        ┆ 0.0         ┆ 0.0               │\n",
       "│ mean       ┆ 2012.803998 ┆ 5.157685   ┆ 3.836121    ┆ 0.245691          │\n",
       "│ std        ┆ 0.39697     ┆ 3.48959    ┆ 1.981021    ┆ 0.430496          │\n",
       "│ min        ┆ 2012.0      ┆ 1.0        ┆ 1.0         ┆ 0.0               │\n",
       "│ 25%        ┆ 2013.0      ┆ 3.0        ┆ 2.0         ┆ 0.0               │\n",
       "│ 50%        ┆ 2013.0      ┆ 4.0        ┆ 4.0         ┆ 0.0               │\n",
       "│ 75%        ┆ 2013.0      ┆ 6.0        ┆ 5.0         ┆ 0.0               │\n",
       "│ max        ┆ 2013.0      ┆ 12.0       ┆ 7.0         ┆ 1.0               │\n",
       "└────────────┴─────────────┴────────────┴─────────────┴───────────────────┘"
      ],
      "text/html": [
       "<div><style>\n",
       ".dataframe > thead > tr,\n",
       ".dataframe > tbody > tr {\n",
       "  text-align: right;\n",
       "  white-space: pre-wrap;\n",
       "}\n",
       "</style>\n",
       "<small>shape: (9, 5)</small><table border=\"1\" class=\"dataframe\"><thead><tr><th>statistic</th><th>year</th><th>month</th><th>day_of_week</th><th>is_weekend_search</th></tr><tr><td>str</td><td>f64</td><td>f64</td><td>f64</td><td>f64</td></tr></thead><tbody><tr><td>&quot;count&quot;</td><td>4.959183e6</td><td>4.959183e6</td><td>4.959183e6</td><td>4.959183e6</td></tr><tr><td>&quot;null_count&quot;</td><td>0.0</td><td>0.0</td><td>0.0</td><td>0.0</td></tr><tr><td>&quot;mean&quot;</td><td>2012.803998</td><td>5.157685</td><td>3.836121</td><td>0.245691</td></tr><tr><td>&quot;std&quot;</td><td>0.39697</td><td>3.48959</td><td>1.981021</td><td>0.430496</td></tr><tr><td>&quot;min&quot;</td><td>2012.0</td><td>1.0</td><td>1.0</td><td>0.0</td></tr><tr><td>&quot;25%&quot;</td><td>2013.0</td><td>3.0</td><td>2.0</td><td>0.0</td></tr><tr><td>&quot;50%&quot;</td><td>2013.0</td><td>4.0</td><td>4.0</td><td>0.0</td></tr><tr><td>&quot;75%&quot;</td><td>2013.0</td><td>6.0</td><td>5.0</td><td>0.0</td></tr><tr><td>&quot;max&quot;</td><td>2013.0</td><td>12.0</td><td>7.0</td><td>1.0</td></tr></tbody></table></div>"
      ]
     },
     "execution_count": 66,
     "metadata": {},
     "output_type": "execute_result"
    }
   ],
   "execution_count": 66
  },
  {
   "cell_type": "code",
   "id": "e518b68a",
   "metadata": {
    "ExecuteTime": {
     "end_time": "2025-05-15T18:34:15.512011Z",
     "start_time": "2025-05-15T18:34:15.432430Z"
    }
   },
   "source": [
    "# The relationship between whether people will book a hotel depends on the month is affected by country_id=219\n",
    "# https://ajourneyintodatascience.quora.com/Learning-to-Rank-Personalize-Expedia-Hotel-Searches-ICDM-2013-http-ajourneyintodatascience-ryin-main-quora-com-Le\n",
    "# Let's verify this by plotting the booking rate over time and see if we can confirm this pattern\n",
    "\n",
    "train_df = train_df.with_columns([\n",
    "    # Let's see the overall pattern over linear time\n",
    "    (pl.col(\"year\").cast(pl.Utf8) + pl.col(\"month\").cast(pl.Utf8).str.zfill(2)).alias(\"year_month\"),\n",
    "    pl.col(\"booking_bool\").cast(pl.Int8)\n",
    "])\n",
    "\n",
    "\n",
    "def compute_booking_rate(df: pl.DataFrame, group_name: str) -> pl.DataFrame:\n",
    "    return (\n",
    "        df.group_by(\"year_month\")\n",
    "        .agg([\n",
    "            pl.col(\"booking_bool\").sum().alias(\"bookings\"),\n",
    "            pl.col(\"srch_id\").n_unique().alias(\"searches\")\n",
    "        ])\n",
    "        .with_columns([\n",
    "            (pl.col(\"bookings\") / pl.col(\"searches\")).alias(\"booking_rate\"),\n",
    "            pl.lit(group_name).alias(\"group\")\n",
    "        ])\n",
    "        .sort(\"year_month\")\n",
    "    )\n",
    "\n",
    "# Compute booking rates and combine\n",
    "total = compute_booking_rate(train_df, \"total\")\n",
    "c219 = compute_booking_rate(train_df.filter(pl.col(\"visitor_location_country_id\") == 219), \"country_219\")\n",
    "others = compute_booking_rate(train_df.filter(pl.col(\"visitor_location_country_id\") != 219), \"other_countries\")\n",
    "\n",
    "df_plot = pl.concat([total, c219, others]).to_pandas()\n",
    "\n",
    "# Plot\n",
    "plt.figure(figsize=(5, 5), dpi=300)\n",
    "sns.lineplot(data=df_plot, x=\"year_month\", y=\"booking_rate\", hue=\"group\", marker=\"o\")\n",
    "plt.title(\"Monthly Booking Rate\")\n",
    "plt.xlabel(\"Month\")\n",
    "plt.ylabel(\"Booking Rate\")\n",
    "plt.xticks(rotation=45)\n",
    "plt.grid(False)\n",
    "plt.tight_layout()\n",
    "plt.show()"
   ],
   "outputs": [
    {
     "ename": "ColumnNotFoundError",
     "evalue": "booking_bool\n\nResolved plan until failure:\n\n\t---> FAILED HERE RESOLVING 'sink' <---\nDF [\"srch_id\", \"date_time\", \"site_id\", \"visitor_location_country_id\", ...]; PROJECT */58 COLUMNS",
     "output_type": "error",
     "traceback": [
      "\u001B[31m---------------------------------------------------------------------------\u001B[39m",
      "\u001B[31mColumnNotFoundError\u001B[39m                       Traceback (most recent call last)",
      "\u001B[36mCell\u001B[39m\u001B[36m \u001B[39m\u001B[32mIn[67]\u001B[39m\u001B[32m, line 5\u001B[39m\n\u001B[32m      1\u001B[39m \u001B[38;5;66;03m# The relationship between whether people will book a hotel depends on the month is affected by country_id=219\u001B[39;00m\n\u001B[32m      2\u001B[39m \u001B[38;5;66;03m# https://ajourneyintodatascience.quora.com/Learning-to-Rank-Personalize-Expedia-Hotel-Searches-ICDM-2013-http-ajourneyintodatascience-ryin-main-quora-com-Le\u001B[39;00m\n\u001B[32m      3\u001B[39m \u001B[38;5;66;03m# Let's verify this by plotting the booking rate over time and see if we can confirm this pattern\u001B[39;00m\n\u001B[32m----> \u001B[39m\u001B[32m5\u001B[39m train_df = \u001B[43mtrain_df\u001B[49m\u001B[43m.\u001B[49m\u001B[43mwith_columns\u001B[49m\u001B[43m(\u001B[49m\u001B[43m[\u001B[49m\n\u001B[32m      6\u001B[39m \u001B[43m    \u001B[49m\u001B[38;5;66;43;03m# Let's see the overall pattern over linear time\u001B[39;49;00m\n\u001B[32m      7\u001B[39m \u001B[43m    \u001B[49m\u001B[43m(\u001B[49m\u001B[43mpl\u001B[49m\u001B[43m.\u001B[49m\u001B[43mcol\u001B[49m\u001B[43m(\u001B[49m\u001B[33;43m\"\u001B[39;49m\u001B[33;43myear\u001B[39;49m\u001B[33;43m\"\u001B[39;49m\u001B[43m)\u001B[49m\u001B[43m.\u001B[49m\u001B[43mcast\u001B[49m\u001B[43m(\u001B[49m\u001B[43mpl\u001B[49m\u001B[43m.\u001B[49m\u001B[43mUtf8\u001B[49m\u001B[43m)\u001B[49m\u001B[43m \u001B[49m\u001B[43m+\u001B[49m\u001B[43m \u001B[49m\u001B[43mpl\u001B[49m\u001B[43m.\u001B[49m\u001B[43mcol\u001B[49m\u001B[43m(\u001B[49m\u001B[33;43m\"\u001B[39;49m\u001B[33;43mmonth\u001B[39;49m\u001B[33;43m\"\u001B[39;49m\u001B[43m)\u001B[49m\u001B[43m.\u001B[49m\u001B[43mcast\u001B[49m\u001B[43m(\u001B[49m\u001B[43mpl\u001B[49m\u001B[43m.\u001B[49m\u001B[43mUtf8\u001B[49m\u001B[43m)\u001B[49m\u001B[43m.\u001B[49m\u001B[43mstr\u001B[49m\u001B[43m.\u001B[49m\u001B[43mzfill\u001B[49m\u001B[43m(\u001B[49m\u001B[32;43m2\u001B[39;49m\u001B[43m)\u001B[49m\u001B[43m)\u001B[49m\u001B[43m.\u001B[49m\u001B[43malias\u001B[49m\u001B[43m(\u001B[49m\u001B[33;43m\"\u001B[39;49m\u001B[33;43myear_month\u001B[39;49m\u001B[33;43m\"\u001B[39;49m\u001B[43m)\u001B[49m\u001B[43m,\u001B[49m\n\u001B[32m      8\u001B[39m \u001B[43m    \u001B[49m\u001B[43mpl\u001B[49m\u001B[43m.\u001B[49m\u001B[43mcol\u001B[49m\u001B[43m(\u001B[49m\u001B[33;43m\"\u001B[39;49m\u001B[33;43mbooking_bool\u001B[39;49m\u001B[33;43m\"\u001B[39;49m\u001B[43m)\u001B[49m\u001B[43m.\u001B[49m\u001B[43mcast\u001B[49m\u001B[43m(\u001B[49m\u001B[43mpl\u001B[49m\u001B[43m.\u001B[49m\u001B[43mInt8\u001B[49m\u001B[43m)\u001B[49m\n\u001B[32m      9\u001B[39m \u001B[43m]\u001B[49m\u001B[43m)\u001B[49m\n\u001B[32m     12\u001B[39m \u001B[38;5;28;01mdef\u001B[39;00m\u001B[38;5;250m \u001B[39m\u001B[34mcompute_booking_rate\u001B[39m(df: pl.DataFrame, group_name: \u001B[38;5;28mstr\u001B[39m) -> pl.DataFrame:\n\u001B[32m     13\u001B[39m     \u001B[38;5;28;01mreturn\u001B[39;00m (\n\u001B[32m     14\u001B[39m         df.group_by(\u001B[33m\"\u001B[39m\u001B[33myear_month\u001B[39m\u001B[33m\"\u001B[39m)\n\u001B[32m     15\u001B[39m         .agg([\n\u001B[32m   (...)\u001B[39m\u001B[32m     23\u001B[39m         .sort(\u001B[33m\"\u001B[39m\u001B[33myear_month\u001B[39m\u001B[33m\"\u001B[39m)\n\u001B[32m     24\u001B[39m     )\n",
      "\u001B[36mFile \u001B[39m\u001B[32m~/Documents/Stuff/.venv/lib/python3.13/site-packages/polars/dataframe/frame.py:9830\u001B[39m, in \u001B[36mDataFrame.with_columns\u001B[39m\u001B[34m(self, *exprs, **named_exprs)\u001B[39m\n\u001B[32m   9684\u001B[39m \u001B[38;5;28;01mdef\u001B[39;00m\u001B[38;5;250m \u001B[39m\u001B[34mwith_columns\u001B[39m(\n\u001B[32m   9685\u001B[39m     \u001B[38;5;28mself\u001B[39m,\n\u001B[32m   9686\u001B[39m     *exprs: IntoExpr | Iterable[IntoExpr],\n\u001B[32m   9687\u001B[39m     **named_exprs: IntoExpr,\n\u001B[32m   9688\u001B[39m ) -> DataFrame:\n\u001B[32m   9689\u001B[39m \u001B[38;5;250m    \u001B[39m\u001B[33;03m\"\"\"\u001B[39;00m\n\u001B[32m   9690\u001B[39m \u001B[33;03m    Add columns to this DataFrame.\u001B[39;00m\n\u001B[32m   9691\u001B[39m \n\u001B[32m   (...)\u001B[39m\u001B[32m   9828\u001B[39m \u001B[33;03m    └─────┴──────┴─────────────┘\u001B[39;00m\n\u001B[32m   9829\u001B[39m \u001B[33;03m    \"\"\"\u001B[39;00m\n\u001B[32m-> \u001B[39m\u001B[32m9830\u001B[39m     \u001B[38;5;28;01mreturn\u001B[39;00m \u001B[38;5;28;43mself\u001B[39;49m\u001B[43m.\u001B[49m\u001B[43mlazy\u001B[49m\u001B[43m(\u001B[49m\u001B[43m)\u001B[49m\u001B[43m.\u001B[49m\u001B[43mwith_columns\u001B[49m\u001B[43m(\u001B[49m\u001B[43m*\u001B[49m\u001B[43mexprs\u001B[49m\u001B[43m,\u001B[49m\u001B[43m \u001B[49m\u001B[43m*\u001B[49m\u001B[43m*\u001B[49m\u001B[43mnamed_exprs\u001B[49m\u001B[43m)\u001B[49m\u001B[43m.\u001B[49m\u001B[43mcollect\u001B[49m\u001B[43m(\u001B[49m\u001B[43m_eager\u001B[49m\u001B[43m=\u001B[49m\u001B[38;5;28;43;01mTrue\u001B[39;49;00m\u001B[43m)\u001B[49m\n",
      "\u001B[36mFile \u001B[39m\u001B[32m~/Documents/Stuff/.venv/lib/python3.13/site-packages/polars/_utils/deprecation.py:93\u001B[39m, in \u001B[36mdeprecate_streaming_parameter.<locals>.decorate.<locals>.wrapper\u001B[39m\u001B[34m(*args, **kwargs)\u001B[39m\n\u001B[32m     89\u001B[39m         kwargs[\u001B[33m\"\u001B[39m\u001B[33mengine\u001B[39m\u001B[33m\"\u001B[39m] = \u001B[33m\"\u001B[39m\u001B[33min-memory\u001B[39m\u001B[33m\"\u001B[39m\n\u001B[32m     91\u001B[39m     \u001B[38;5;28;01mdel\u001B[39;00m kwargs[\u001B[33m\"\u001B[39m\u001B[33mstreaming\u001B[39m\u001B[33m\"\u001B[39m]\n\u001B[32m---> \u001B[39m\u001B[32m93\u001B[39m \u001B[38;5;28;01mreturn\u001B[39;00m \u001B[43mfunction\u001B[49m\u001B[43m(\u001B[49m\u001B[43m*\u001B[49m\u001B[43margs\u001B[49m\u001B[43m,\u001B[49m\u001B[43m \u001B[49m\u001B[43m*\u001B[49m\u001B[43m*\u001B[49m\u001B[43mkwargs\u001B[49m\u001B[43m)\u001B[49m\n",
      "\u001B[36mFile \u001B[39m\u001B[32m~/Documents/Stuff/.venv/lib/python3.13/site-packages/polars/lazyframe/frame.py:2224\u001B[39m, in \u001B[36mLazyFrame.collect\u001B[39m\u001B[34m(self, type_coercion, _type_check, predicate_pushdown, projection_pushdown, simplify_expression, slice_pushdown, comm_subplan_elim, comm_subexpr_elim, cluster_with_columns, collapse_joins, no_optimization, engine, background, _check_order, _eager, **_kwargs)\u001B[39m\n\u001B[32m   2222\u001B[39m \u001B[38;5;66;03m# Only for testing purposes\u001B[39;00m\n\u001B[32m   2223\u001B[39m callback = _kwargs.get(\u001B[33m\"\u001B[39m\u001B[33mpost_opt_callback\u001B[39m\u001B[33m\"\u001B[39m, callback)\n\u001B[32m-> \u001B[39m\u001B[32m2224\u001B[39m \u001B[38;5;28;01mreturn\u001B[39;00m wrap_df(\u001B[43mldf\u001B[49m\u001B[43m.\u001B[49m\u001B[43mcollect\u001B[49m\u001B[43m(\u001B[49m\u001B[43mengine\u001B[49m\u001B[43m,\u001B[49m\u001B[43m \u001B[49m\u001B[43mcallback\u001B[49m\u001B[43m)\u001B[49m)\n",
      "\u001B[31mColumnNotFoundError\u001B[39m: booking_bool\n\nResolved plan until failure:\n\n\t---> FAILED HERE RESOLVING 'sink' <---\nDF [\"srch_id\", \"date_time\", \"site_id\", \"visitor_location_country_id\", ...]; PROJECT */58 COLUMNS"
     ]
    }
   ],
   "execution_count": 67
  },
  {
   "cell_type": "code",
   "id": "9515b181",
   "metadata": {
    "ExecuteTime": {
     "end_time": "2025-05-15T18:34:19.824749Z",
     "start_time": "2025-05-15T18:34:19.820571Z"
    }
   },
   "source": [
    "# A clear cyclical pattern is present, so we transform our features to capture this better\n",
    "# We will use sine and cosine transformations to encode cyclical features\n",
    "\n",
    "def add_time_features(df: pl.DataFrame) -> pl.DataFrame:\n",
    "    new_columns = []\n",
    "\n",
    "    for col_name, period in [(\"month\", 12), (\"search_hour\", 24), (\"day_of_week\", 7)]:\n",
    "        new_columns.extend([\n",
    "            pl.col(col_name).cast(pl.Float64).map_elements(\n",
    "                lambda x: np.sin(2 * np.pi * x / period),\n",
    "                return_dtype=pl.Float64\n",
    "            ).alias(f\"{col_name}_sin\"),\n",
    "\n",
    "            pl.col(col_name).cast(pl.Float64).map_elements(\n",
    "                lambda x: np.cos(2 * np.pi * x / period),\n",
    "                return_dtype=pl.Float64\n",
    "            ).alias(f\"{col_name}_cos\")\n",
    "        ])\n",
    "\n",
    "    return df.with_columns(new_columns)\n"
   ],
   "outputs": [],
   "execution_count": 68
  },
  {
   "cell_type": "code",
   "id": "0ba0a104",
   "metadata": {
    "ExecuteTime": {
     "end_time": "2025-05-15T18:34:46.987840Z",
     "start_time": "2025-05-15T18:34:22.355538Z"
    }
   },
   "source": [
    "train_df = add_time_features(train_df)"
   ],
   "outputs": [],
   "execution_count": 69
  },
  {
   "cell_type": "code",
   "id": "b39183f4",
   "metadata": {
    "ExecuteTime": {
     "end_time": "2025-05-15T18:34:49.951683Z",
     "start_time": "2025-05-15T18:34:49.513848Z"
    }
   },
   "source": [
    "### (1.2) Clean Search Columns\n",
    "train_df.select(\n",
    "    columns[\"search\"]\n",
    ").describe()"
   ],
   "outputs": [
    {
     "data": {
      "text/plain": [
       "shape: (9, 11)\n",
       "┌───────────┬───────────┬───────────┬───────────┬───┬───────────┬───────────┬───────────┬──────────┐\n",
       "│ statistic ┆ srch_id   ┆ date_time ┆ srch_dest ┆ … ┆ srch_chil ┆ srch_room ┆ srch_satu ┆ srch_que │\n",
       "│ ---       ┆ ---       ┆ ---       ┆ ination_i ┆   ┆ dren_coun ┆ _count    ┆ rday_nigh ┆ ry_affin │\n",
       "│ str       ┆ f64       ┆ str       ┆ d         ┆   ┆ t         ┆ ---       ┆ t_bool    ┆ ity_scor │\n",
       "│           ┆           ┆           ┆ ---       ┆   ┆ ---       ┆ f64       ┆ ---       ┆ e        │\n",
       "│           ┆           ┆           ┆ f64       ┆   ┆ f64       ┆           ┆ f64       ┆ ---      │\n",
       "│           ┆           ┆           ┆           ┆   ┆           ┆           ┆           ┆ str      │\n",
       "╞═══════════╪═══════════╪═══════════╪═══════════╪═══╪═══════════╪═══════════╪═══════════╪══════════╡\n",
       "│ count     ┆ 4.959183e ┆ 4959183   ┆ 4.959183e ┆ … ┆ 4.959183e ┆ 4.959183e ┆ 4.959183e ┆ 318158   │\n",
       "│           ┆ 6         ┆           ┆ 6         ┆   ┆ 6         ┆ 6         ┆ 6         ┆          │\n",
       "│ null_coun ┆ 0.0       ┆ 0         ┆ 0.0       ┆ … ┆ 0.0       ┆ 0.0       ┆ 0.0       ┆ 4641025  │\n",
       "│ t         ┆           ┆           ┆           ┆   ┆           ┆           ┆           ┆          │\n",
       "│ mean      ┆ 166646.02 ┆ null      ┆ 14069.670 ┆ … ┆ 0.346975  ┆ 1.111076  ┆ 0.4983    ┆ null     │\n",
       "│           ┆ 3925      ┆           ┆ 932       ┆   ┆           ┆           ┆           ┆          │\n",
       "│ std       ┆ 96149.918 ┆ null      ┆ 8118.3975 ┆ … ┆ 0.726874  ┆ 0.430957  ┆ 0.499997  ┆ null     │\n",
       "│           ┆ 406       ┆           ┆ 45        ┆   ┆           ┆           ┆           ┆          │\n",
       "│ min       ┆ 1.0       ┆ 2012-11-0 ┆ 2.0       ┆ … ┆ 0.0       ┆ 1.0       ┆ 0.0       ┆ -10.0    │\n",
       "│           ┆           ┆ 1         ┆           ┆   ┆           ┆           ┆           ┆          │\n",
       "│           ┆           ┆ 00:01:37  ┆           ┆   ┆           ┆           ┆           ┆          │\n",
       "│ 25%       ┆ 83312.0   ┆ null      ┆ 7100.0    ┆ … ┆ 0.0       ┆ 1.0       ┆ 0.0       ┆ null     │\n",
       "│ 50%       ┆ 167095.0  ┆ null      ┆ 13609.0   ┆ … ┆ 0.0       ┆ 1.0       ┆ 0.0       ┆ null     │\n",
       "│ 75%       ┆ 249966.0  ┆ null      ┆ 21160.0   ┆ … ┆ 0.0       ┆ 1.0       ┆ 1.0       ┆ null     │\n",
       "│ max       ┆ 332787.0  ┆ 2013-06-3 ┆ 28416.0   ┆ … ┆ 9.0       ┆ 8.0       ┆ 1.0       ┆ -99.9883 │\n",
       "│           ┆           ┆ 0         ┆           ┆   ┆           ┆           ┆           ┆          │\n",
       "│           ┆           ┆ 23:55:44  ┆           ┆   ┆           ┆           ┆           ┆          │\n",
       "└───────────┴───────────┴───────────┴───────────┴───┴───────────┴───────────┴───────────┴──────────┘"
      ],
      "text/html": [
       "<div><style>\n",
       ".dataframe > thead > tr,\n",
       ".dataframe > tbody > tr {\n",
       "  text-align: right;\n",
       "  white-space: pre-wrap;\n",
       "}\n",
       "</style>\n",
       "<small>shape: (9, 11)</small><table border=\"1\" class=\"dataframe\"><thead><tr><th>statistic</th><th>srch_id</th><th>date_time</th><th>srch_destination_id</th><th>srch_length_of_stay</th><th>srch_booking_window</th><th>srch_adults_count</th><th>srch_children_count</th><th>srch_room_count</th><th>srch_saturday_night_bool</th><th>srch_query_affinity_score</th></tr><tr><td>str</td><td>f64</td><td>str</td><td>f64</td><td>f64</td><td>f64</td><td>f64</td><td>f64</td><td>f64</td><td>f64</td><td>str</td></tr></thead><tbody><tr><td>&quot;count&quot;</td><td>4.959183e6</td><td>&quot;4959183&quot;</td><td>4.959183e6</td><td>4.959183e6</td><td>4.959183e6</td><td>4.959183e6</td><td>4.959183e6</td><td>4.959183e6</td><td>4.959183e6</td><td>&quot;318158&quot;</td></tr><tr><td>&quot;null_count&quot;</td><td>0.0</td><td>&quot;0&quot;</td><td>0.0</td><td>0.0</td><td>0.0</td><td>0.0</td><td>0.0</td><td>0.0</td><td>0.0</td><td>&quot;4641025&quot;</td></tr><tr><td>&quot;mean&quot;</td><td>166646.023925</td><td>null</td><td>14069.670932</td><td>2.394595</td><td>37.773391</td><td>1.972557</td><td>0.346975</td><td>1.111076</td><td>0.4983</td><td>null</td></tr><tr><td>&quot;std&quot;</td><td>96149.918406</td><td>null</td><td>8118.397545</td><td>2.080173</td><td>52.221874</td><td>0.861076</td><td>0.726874</td><td>0.430957</td><td>0.499997</td><td>null</td></tr><tr><td>&quot;min&quot;</td><td>1.0</td><td>&quot;2012-11-01 00:01:37&quot;</td><td>2.0</td><td>1.0</td><td>0.0</td><td>1.0</td><td>0.0</td><td>1.0</td><td>0.0</td><td>&quot;-10.0&quot;</td></tr><tr><td>&quot;25%&quot;</td><td>83312.0</td><td>null</td><td>7100.0</td><td>1.0</td><td>4.0</td><td>2.0</td><td>0.0</td><td>1.0</td><td>0.0</td><td>null</td></tr><tr><td>&quot;50%&quot;</td><td>167095.0</td><td>null</td><td>13609.0</td><td>2.0</td><td>17.0</td><td>2.0</td><td>0.0</td><td>1.0</td><td>0.0</td><td>null</td></tr><tr><td>&quot;75%&quot;</td><td>249966.0</td><td>null</td><td>21160.0</td><td>3.0</td><td>49.0</td><td>2.0</td><td>0.0</td><td>1.0</td><td>1.0</td><td>null</td></tr><tr><td>&quot;max&quot;</td><td>332787.0</td><td>&quot;2013-06-30 23:55:44&quot;</td><td>28416.0</td><td>59.0</td><td>498.0</td><td>9.0</td><td>9.0</td><td>8.0</td><td>1.0</td><td>&quot;-99.9883&quot;</td></tr></tbody></table></div>"
      ]
     },
     "execution_count": 70,
     "metadata": {},
     "output_type": "execute_result"
    }
   ],
   "execution_count": 70
  },
  {
   "cell_type": "markdown",
   "id": "7b119d48",
   "metadata": {},
   "source": [
    "### (1.2) Clean Properties Columns"
   ]
  },
  {
   "cell_type": "code",
   "id": "f1663033",
   "metadata": {
    "ExecuteTime": {
     "end_time": "2025-05-15T18:34:53.415661Z",
     "start_time": "2025-05-15T18:34:53.146098Z"
    }
   },
   "source": [
    "train_df.select(\n",
    "    columns[\"booking\"]\n",
    ").describe()"
   ],
   "outputs": [
    {
     "data": {
      "text/plain": [
       "shape: (9, 11)\n",
       "┌───────────┬───────────┬───────────┬───────────┬───┬───────────┬───────────┬───────────┬──────────┐\n",
       "│ statistic ┆ prop_coun ┆ prop_id   ┆ prop_star ┆ … ┆ prop_loca ┆ prop_log_ ┆ price_usd ┆ promotio │\n",
       "│ ---       ┆ try_id    ┆ ---       ┆ rating    ┆   ┆ tion_scor ┆ historica ┆ ---       ┆ n_flag   │\n",
       "│ str       ┆ ---       ┆ f64       ┆ ---       ┆   ┆ e2        ┆ l_price   ┆ f64       ┆ ---      │\n",
       "│           ┆ f64       ┆           ┆ f64       ┆   ┆ ---       ┆ ---       ┆           ┆ f64      │\n",
       "│           ┆           ┆           ┆           ┆   ┆ f64       ┆ f64       ┆           ┆          │\n",
       "╞═══════════╪═══════════╪═══════════╪═══════════╪═══╪═══════════╪═══════════╪═══════════╪══════════╡\n",
       "│ count     ┆ 4.959183e ┆ 4.959183e ┆ 4.959183e ┆ … ┆ 3.871151e ┆ 4.959183e ┆ 4.959183e ┆ 4.959183 │\n",
       "│           ┆ 6         ┆ 6         ┆ 6         ┆   ┆ 6         ┆ 6         ┆ 6         ┆ e6       │\n",
       "│ null_coun ┆ 0.0       ┆ 0.0       ┆ 0.0       ┆ … ┆ 1.088032e ┆ 0.0       ┆ 0.0       ┆ 0.0      │\n",
       "│ t         ┆           ┆           ┆           ┆   ┆ 6         ┆           ┆           ┆          │\n",
       "│ mean      ┆ 173.83706 ┆ 70081.112 ┆ 3.182542  ┆ … ┆ 0.130453  ┆ 4.315754  ┆ 229.35754 ┆ 0.215903 │\n",
       "│           ┆ 6         ┆ 228       ┆           ┆   ┆           ┆           ┆ 7         ┆          │\n",
       "│ std       ┆ 68.350058 ┆ 40613.628 ┆ 1.049358  ┆ … ┆ 0.159566  ┆ 1.837611  ┆ 12463.692 ┆ 0.411448 │\n",
       "│           ┆           ┆ 746       ┆           ┆   ┆           ┆           ┆ 68        ┆          │\n",
       "│ min       ┆ 1.0       ┆ 1.0       ┆ 0.0       ┆ … ┆ 0.0       ┆ 0.0       ┆ 0.0       ┆ 0.0      │\n",
       "│ 25%       ┆ 100.0     ┆ 35021.0   ┆ 3.0       ┆ … ┆ 0.019     ┆ 4.44      ┆ 85.0      ┆ 0.0      │\n",
       "│ 50%       ┆ 219.0     ┆ 69607.0   ┆ 3.0       ┆ … ┆ 0.0692    ┆ 4.91      ┆ 122.26    ┆ 0.0      │\n",
       "│ 75%       ┆ 219.0     ┆ 105179.0  ┆ 4.0       ┆ … ┆ 0.1807    ┆ 5.31      ┆ 185.0     ┆ 0.0      │\n",
       "│ max       ┆ 230.0     ┆ 140821.0  ┆ 5.0       ┆ … ┆ 1.0       ┆ 6.21      ┆ 9.66134e6 ┆ 1.0      │\n",
       "└───────────┴───────────┴───────────┴───────────┴───┴───────────┴───────────┴───────────┴──────────┘"
      ],
      "text/html": [
       "<div><style>\n",
       ".dataframe > thead > tr,\n",
       ".dataframe > tbody > tr {\n",
       "  text-align: right;\n",
       "  white-space: pre-wrap;\n",
       "}\n",
       "</style>\n",
       "<small>shape: (9, 11)</small><table border=\"1\" class=\"dataframe\"><thead><tr><th>statistic</th><th>prop_country_id</th><th>prop_id</th><th>prop_starrating</th><th>prop_review_score</th><th>prop_brand_bool</th><th>prop_location_score1</th><th>prop_location_score2</th><th>prop_log_historical_price</th><th>price_usd</th><th>promotion_flag</th></tr><tr><td>str</td><td>f64</td><td>f64</td><td>f64</td><td>f64</td><td>f64</td><td>f64</td><td>f64</td><td>f64</td><td>f64</td><td>f64</td></tr></thead><tbody><tr><td>&quot;count&quot;</td><td>4.959183e6</td><td>4.959183e6</td><td>4.959183e6</td><td>4.951917e6</td><td>4.959183e6</td><td>4.959183e6</td><td>3.871151e6</td><td>4.959183e6</td><td>4.959183e6</td><td>4.959183e6</td></tr><tr><td>&quot;null_count&quot;</td><td>0.0</td><td>0.0</td><td>0.0</td><td>7266.0</td><td>0.0</td><td>0.0</td><td>1.088032e6</td><td>0.0</td><td>0.0</td><td>0.0</td></tr><tr><td>&quot;mean&quot;</td><td>173.837066</td><td>70081.112228</td><td>3.182542</td><td>3.777628</td><td>0.633909</td><td>2.879367</td><td>0.130453</td><td>4.315754</td><td>229.357547</td><td>0.215903</td></tr><tr><td>&quot;std&quot;</td><td>68.350058</td><td>40613.628746</td><td>1.049358</td><td>1.051283</td><td>0.481735</td><td>1.533165</td><td>0.159566</td><td>1.837611</td><td>12463.69268</td><td>0.411448</td></tr><tr><td>&quot;min&quot;</td><td>1.0</td><td>1.0</td><td>0.0</td><td>0.0</td><td>0.0</td><td>0.0</td><td>0.0</td><td>0.0</td><td>0.0</td><td>0.0</td></tr><tr><td>&quot;25%&quot;</td><td>100.0</td><td>35021.0</td><td>3.0</td><td>3.5</td><td>0.0</td><td>1.79</td><td>0.019</td><td>4.44</td><td>85.0</td><td>0.0</td></tr><tr><td>&quot;50%&quot;</td><td>219.0</td><td>69607.0</td><td>3.0</td><td>4.0</td><td>1.0</td><td>2.77</td><td>0.0692</td><td>4.91</td><td>122.26</td><td>0.0</td></tr><tr><td>&quot;75%&quot;</td><td>219.0</td><td>105179.0</td><td>4.0</td><td>4.5</td><td>1.0</td><td>4.04</td><td>0.1807</td><td>5.31</td><td>185.0</td><td>0.0</td></tr><tr><td>&quot;max&quot;</td><td>230.0</td><td>140821.0</td><td>5.0</td><td>5.0</td><td>1.0</td><td>6.98</td><td>1.0</td><td>6.21</td><td>9.66134e6</td><td>1.0</td></tr></tbody></table></div>"
      ]
     },
     "execution_count": 71,
     "metadata": {},
     "output_type": "execute_result"
    }
   ],
   "execution_count": 71
  },
  {
   "cell_type": "code",
   "id": "2b0b66ba",
   "metadata": {
    "ExecuteTime": {
     "end_time": "2025-05-15T18:34:54.536108Z",
     "start_time": "2025-05-15T18:34:54.519493Z"
    }
   },
   "source": [
    "# Prop_review_score is messy. So, we split the information into\n",
    "train_df = train_df.with_columns([\n",
    "    # Fill null with sentinel (-1), keep 0.0 as-is (means: no reviews)\n",
    "    pl.col(\"prop_review_score\").cast(pl.Float64).fill_null(-1.0).alias(\"prop_review_score_filled\"),\n",
    "\n",
    "    # Flag: is the score usable (non-null and > 0)?\n",
    "    (pl.col(\"prop_review_score\") > 0).cast(pl.Int8).alias(\"has_usable_review\")\n",
    "])\n",
    "\n"
   ],
   "outputs": [],
   "execution_count": 72
  },
  {
   "cell_type": "code",
   "id": "67cb692f",
   "metadata": {
    "ExecuteTime": {
     "end_time": "2025-05-15T18:28:09.406145Z",
     "start_time": "2025-05-15T18:27:34.774054Z"
    }
   },
   "source": [
    "plt.figure(figsize=(12, 6))\n",
    "sns.kdeplot(data=train_df, x=\"price_usd\", hue=\"site_id\", common_norm=False, fill=True, alpha=0.3)\n",
    "plt.xlim(0, train_df[\"price_usd\"].quantile(0.95))\n",
    "plt.title(\"Distribution of price_usd by site_ids\")\n",
    "plt.xlabel(\"price_usd\")\n",
    "plt.ylabel(\"Density\")\n",
    "plt.tight_layout()\n",
    "plt.show()"
   ],
   "outputs": [
    {
     "data": {
      "text/plain": [
       "<Figure size 1200x600 with 1 Axes>"
      ],
      "image/png": "[encoded data removed]"
     },
     "metadata": {},
     "output_type": "display_data"
    }
   ],
   "execution_count": 48
  },
  {
   "cell_type": "code",
   "id": "030a7da7",
   "metadata": {
    "ExecuteTime": {
     "end_time": "2025-05-15T18:35:02.802929Z",
     "start_time": "2025-05-15T18:35:01.441321Z"
    }
   },
   "source": [
    "df_pd = train_df.select([\n",
    "    \"site_id\", \n",
    "    \"price_usd\", \n",
    "    \"srch_length_of_stay\"\n",
    "]).with_columns([\n",
    "    (pl.col(\"price_usd\") / pl.col(\"srch_length_of_stay\")).alias(\"price_per_night\")\n",
    "]).to_pandas()\n",
    "# Group and compute descriptive statistics\n",
    "desc_table = (\n",
    "    df_pd.groupby(\"site_id\")\n",
    "    .agg(\n",
    "        price_mean=(\"price_per_night\", \"mean\"),\n",
    "        price_median=(\"price_per_night\", \"median\"),\n",
    "        price_q10=(\"price_per_night\", lambda x: x.quantile(0.10)),\n",
    "        price_q25=(\"price_per_night\", lambda x: x.quantile(0.25)),\n",
    "        price_q75=(\"price_per_night\", lambda x: x.quantile(0.75)),\n",
    "        price_q90=(\"price_per_night\", lambda x: x.quantile(0.90)),\n",
    "        price_q95=(\"price_per_night\", lambda x: x.quantile(0.95)),\n",
    "        price_q99=(\"price_per_night\", lambda x: x.quantile(0.99)),\n",
    "    )\n",
    "    .reset_index()\n",
    ")\n",
    "\n",
    "# Optional: sort by price_mean\n",
    "desc_table = desc_table.sort_values(by=\"price_median\", ascending=False)\n",
    "\n",
    "# Display or export\n",
    "print(desc_table)"
   ],
   "outputs": [
    {
     "name": "stdout",
     "output_type": "stream",
     "text": [
      "    site_id   price_mean  price_median  price_q10  price_q25   price_q75   price_q90   price_q95   price_q99\n",
      "6         7   100.460107     84.685000  28.431500  48.645000  129.290000  184.070000  234.054000  374.577700\n",
      "13       14   113.762514     78.715000  25.750000  44.800000  124.910000  178.850000  227.430000  381.062000\n",
      "7         8    81.569892     77.333333  54.000000  63.166667   90.500000  109.666667  136.666667  159.800000\n",
      "14       15   113.133048     75.256667  21.559000  40.175750  125.238125  198.876333  266.860000  489.360000\n",
      "4         5   137.770921     74.000000  25.000000  42.714286  119.000000  179.000000  239.000000  410.000000\n",
      "33       34   120.048487     71.810000  17.398000  33.336667  134.940000  228.532000  311.000000  679.868200\n",
      "31       32   278.573353     67.162000  19.302833  35.578333  125.380000  204.360000  267.260000  435.297200\n",
      "30       31    81.617066     67.000000  23.333333  39.500000  103.000000  154.000000  199.000000  321.120000\n",
      "22       23    90.126344     66.870000  18.182500  33.731643  120.532500  189.779000  236.489500  380.490700\n",
      "10       11    89.875730     66.253333  19.860000  36.273375  115.426562  176.600000  229.227000  376.355200\n",
      "15       16    92.742367     65.020000  20.458000  35.889375  110.003750  173.730000  234.514000  439.463400\n",
      "9        10    84.211341     64.289792  16.244167  32.141667  107.476250  165.835000  228.630000  407.003750\n",
      "11       12    89.100135     64.060000  17.558143  32.670000  110.920000  175.210000  232.860000  418.358533\n",
      "28       29    85.911499     63.730000  17.143542  32.294583  110.582500  175.307500  232.785000  388.824000\n",
      "26       27    88.091279     63.260000  18.486571  33.034762  110.065000  174.878333  229.246500  437.435400\n",
      "23       24    88.510677     62.983333  19.722200  34.555000  110.800000  182.500000  243.463000  425.028400\n",
      "21       22    87.462182     62.585000  19.046667  33.925000  112.840000  183.509000  241.462000  399.320000\n",
      "19       20    86.722005     62.080000  31.870000  42.280000  113.445000  176.760000  205.355000  266.570000\n",
      "0         1    88.230102     61.466667  16.456400  31.576429  114.110000  190.890000  249.573000  418.981400\n",
      "20       21    87.549785     61.350000  15.513714  29.053333  113.400000  184.480000  246.246000  426.997200\n",
      "17       18    94.443589     60.483333  18.975300  33.420833  103.990000  161.080000  211.130000  373.397600\n",
      "5         6   104.249945     60.010000  16.564667  30.000000  125.190000  229.592000  329.943000  628.323200\n",
      "29       30    82.765415     59.860000  15.991600  31.311250  102.515000  173.550500  229.070500  407.705100\n",
      "1         2    73.285348     53.260000  19.395714  32.382917   92.045000  149.220000  192.974000  339.194200\n",
      "27       28  3178.919043     53.248333  15.782723  27.990278   96.297500  158.930000  218.194000  499.638800\n",
      "25       26   107.834440     52.880000  16.300000  27.500000  100.120000  168.436000  236.562000  475.136800\n",
      "24       25    73.444739     52.820833  15.890952  28.455000   89.550000  141.476125  186.178750  384.143450\n",
      "3         4    78.219560     52.647500  16.113000  27.367500   97.128000  165.621500  221.493500  413.940000\n",
      "16       17    78.505616     51.750000  11.956667  24.728333   95.622500  160.121000  227.109000  461.268100\n",
      "8         9    69.352876     49.990000  15.695000  26.988333   86.680000  136.503000  186.563000  357.708800\n",
      "12       13    85.047712     48.906667  14.840000  26.320000   88.770000  147.824000  199.386000  381.447400\n",
      "2         3    68.939909     46.110000  12.862000  24.699167   85.275000  150.207000  210.686500  362.103700\n",
      "18       19    71.471431     39.752500  11.012429  20.689375   74.110000  131.826500  183.505000  356.881200\n",
      "32       33    50.855720     33.458000   6.182500  14.045250   64.932500  109.782500  143.698250  314.712500\n"
     ]
    }
   ],
   "execution_count": 73
  },
  {
   "cell_type": "code",
   "id": "653ee642",
   "metadata": {
    "ExecuteTime": {
     "end_time": "2025-05-15T18:35:04.578832Z",
     "start_time": "2025-05-15T18:35:03.656104Z"
    }
   },
   "source": [
    "def process_competitor_features(df: pl.DataFrame) -> pl.DataFrame:\n",
    "    rate_cols = [f\"comp{i}_rate\" for i in range(1, 9)]\n",
    "    inv_cols = [f\"comp{i}_inv\" for i in range(1, 9)]\n",
    "    diff_cols = [f\"comp{i}_rate_percent_diff\" for i in range(1, 9)]\n",
    "\n",
    "    # Cast and fill missing with 0\n",
    "    for col in rate_cols + inv_cols + diff_cols:\n",
    "        df = df.with_columns([\n",
    "            pl.col(col).cast(pl.Float64).fill_null(0.0).alias(col)\n",
    "        ])\n",
    "\n",
    "    # Aggregation logic\n",
    "    num_comps_lower = sum([pl.col(col) == 1 for col in rate_cols]).alias(\"num_comps_lower\")\n",
    "    num_comps_higher = sum([pl.col(col) == -1 for col in rate_cols]).alias(\"num_comps_higher\")\n",
    "    num_comps_with_inventory = sum([pl.col(col) == 1 for col in inv_cols]).alias(\"num_comps_with_inventory\")\n",
    "\n",
    "    # Mean of all percent diffs\n",
    "    total_diff = reduce(lambda a, b: a + b, [pl.col(c) for c in diff_cols])\n",
    "    count_diff = reduce(lambda a, b: a + b, [pl.col(c).is_not_null().cast(pl.Float64) for c in diff_cols])\n",
    "    avg_diff = (total_diff / count_diff).alias(\"avg_comp_rate_percent_diff\")\n",
    "\n",
    "    # Mean when comp rate is lower\n",
    "    lower_diffs = [\n",
    "        pl.when(pl.col(r) == 1).then(pl.col(d)).otherwise(None)\n",
    "        for r, d in zip(rate_cols, diff_cols)\n",
    "    ]\n",
    "    total_lower = reduce(lambda a, b: a + b, lower_diffs)\n",
    "    count_lower = reduce(lambda a, b: a + b, [expr.is_not_null().cast(pl.Float64) for expr in lower_diffs])\n",
    "\n",
    "\n",
    "    return df.with_columns([\n",
    "        num_comps_lower,\n",
    "        num_comps_higher,\n",
    "        num_comps_with_inventory,\n",
    "        avg_diff,   \n",
    "    ])\n",
    "\n",
    "\n",
    "def clean_competitor_columns(df: pl.DataFrame) -> pl.DataFrame:\n",
    "    rate_cols = [f\"comp{i}_rate\" for i in range(1, 9)]\n",
    "    inv_cols = [f\"comp{i}_inv\" for i in range(1, 9)]\n",
    "    diff_cols = [f\"comp{i}_rate_percent_diff\" for i in range(1, 9)]\n",
    "    all_comp_cols = rate_cols + inv_cols + diff_cols\n",
    "\n",
    "    df = process_competitor_features(df)\n",
    "    df = df.drop(all_comp_cols)\n",
    "\n",
    "    return df\n",
    "\n",
    "\n",
    "train_df = clean_competitor_columns(train_df)\n"
   ],
   "outputs": [],
   "execution_count": 74
  },
  {
   "cell_type": "code",
   "id": "b47631b7",
   "metadata": {
    "ExecuteTime": {
     "end_time": "2025-05-15T18:35:06.760466Z",
     "start_time": "2025-05-15T18:35:04.659371Z"
    }
   },
   "source": [
    "train_df.describe()\n"
   ],
   "outputs": [
    {
     "data": {
      "text/plain": [
       "shape: (9, 47)\n",
       "┌───────────┬───────────┬───────────┬───────────┬───┬───────────┬───────────┬───────────┬──────────┐\n",
       "│ statistic ┆ srch_id   ┆ date_time ┆ site_id   ┆ … ┆ num_comps ┆ num_comps ┆ num_comps ┆ avg_comp │\n",
       "│ ---       ┆ ---       ┆ ---       ┆ ---       ┆   ┆ _lower    ┆ _higher   ┆ _with_inv ┆ _rate_pe │\n",
       "│ str       ┆ f64       ┆ str       ┆ f64       ┆   ┆ ---       ┆ ---       ┆ entory    ┆ rcent_di │\n",
       "│           ┆           ┆           ┆           ┆   ┆ f64       ┆ f64       ┆ ---       ┆ ff       │\n",
       "│           ┆           ┆           ┆           ┆   ┆           ┆           ┆ f64       ┆ ---      │\n",
       "│           ┆           ┆           ┆           ┆   ┆           ┆           ┆           ┆ f64      │\n",
       "╞═══════════╪═══════════╪═══════════╪═══════════╪═══╪═══════════╪═══════════╪═══════════╪══════════╡\n",
       "│ count     ┆ 4.959183e ┆ 4959183   ┆ 4.959183e ┆ … ┆ 4.959183e ┆ 4.959183e ┆ 4.959183e ┆ 4.959183 │\n",
       "│           ┆ 6         ┆           ┆ 6         ┆   ┆ 6         ┆ 6         ┆ 6         ┆ e6       │\n",
       "│ null_coun ┆ 0.0       ┆ 0         ┆ 0.0       ┆ … ┆ 0.0       ┆ 0.0       ┆ 0.0       ┆ 0.0      │\n",
       "│ t         ┆           ┆           ┆           ┆   ┆           ┆           ┆           ┆          │\n",
       "│ mean      ┆ 166646.02 ┆ null      ┆ 9.979214  ┆ … ┆ 0.23308   ┆ 0.196443  ┆ 0.105395  ┆ 2.722662 │\n",
       "│           ┆ 3925      ┆           ┆           ┆   ┆           ┆           ┆           ┆          │\n",
       "│ std       ┆ 96149.918 ┆ null      ┆ 7.667722  ┆ … ┆ 0.623633  ┆ 0.61088   ┆ 0.374349  ┆ 176.7282 │\n",
       "│           ┆ 406       ┆           ┆           ┆   ┆           ┆           ┆           ┆ 15       │\n",
       "│ min       ┆ 1.0       ┆ 2012-11-0 ┆ 1.0       ┆ … ┆ 0.0       ┆ 0.0       ┆ 0.0       ┆ 0.0      │\n",
       "│           ┆           ┆ 1         ┆           ┆   ┆           ┆           ┆           ┆          │\n",
       "│           ┆           ┆ 00:01:37  ┆           ┆   ┆           ┆           ┆           ┆          │\n",
       "│ 25%       ┆ 83312.0   ┆ null      ┆ 5.0       ┆ … ┆ 0.0       ┆ 0.0       ┆ 0.0       ┆ 0.0      │\n",
       "│ 50%       ┆ 167095.0  ┆ null      ┆ 5.0       ┆ … ┆ 0.0       ┆ 0.0       ┆ 0.0       ┆ 0.0      │\n",
       "│ 75%       ┆ 249966.0  ┆ null      ┆ 14.0      ┆ … ┆ 0.0       ┆ 0.0       ┆ 0.0       ┆ 1.25     │\n",
       "│ max       ┆ 332787.0  ┆ 2013-06-3 ┆ 34.0      ┆ … ┆ 6.0       ┆ 6.0       ┆ 6.0       ┆ 179995.7 │\n",
       "│           ┆           ┆ 0         ┆           ┆   ┆           ┆           ┆           ┆ 5        │\n",
       "│           ┆           ┆ 23:55:44  ┆           ┆   ┆           ┆           ┆           ┆          │\n",
       "└───────────┴───────────┴───────────┴───────────┴───┴───────────┴───────────┴───────────┴──────────┘"
      ],
      "text/html": [
       "<div><style>\n",
       ".dataframe > thead > tr,\n",
       ".dataframe > tbody > tr {\n",
       "  text-align: right;\n",
       "  white-space: pre-wrap;\n",
       "}\n",
       "</style>\n",
       "<small>shape: (9, 47)</small><table border=\"1\" class=\"dataframe\"><thead><tr><th>statistic</th><th>srch_id</th><th>date_time</th><th>site_id</th><th>visitor_location_country_id</th><th>visitor_hist_starrating</th><th>visitor_hist_adr_usd</th><th>prop_country_id</th><th>prop_id</th><th>prop_starrating</th><th>prop_review_score</th><th>prop_brand_bool</th><th>prop_location_score1</th><th>prop_location_score2</th><th>prop_log_historical_price</th><th>price_usd</th><th>promotion_flag</th><th>srch_destination_id</th><th>srch_length_of_stay</th><th>srch_booking_window</th><th>srch_adults_count</th><th>srch_children_count</th><th>srch_room_count</th><th>srch_saturday_night_bool</th><th>srch_query_affinity_score</th><th>orig_destination_distance</th><th>random_bool</th><th>parsed_date</th><th>year</th><th>month</th><th>day</th><th>search_hour</th><th>day_of_week</th><th>is_weekend_search</th><th>year_month</th><th>month_sin</th><th>month_cos</th><th>search_hour_sin</th><th>search_hour_cos</th><th>day_of_week_sin</th><th>day_of_week_cos</th><th>prop_review_score_filled</th><th>has_usable_review</th><th>num_comps_lower</th><th>num_comps_higher</th><th>num_comps_with_inventory</th><th>avg_comp_rate_percent_diff</th></tr><tr><td>str</td><td>f64</td><td>str</td><td>f64</td><td>f64</td><td>str</td><td>str</td><td>f64</td><td>f64</td><td>f64</td><td>f64</td><td>f64</td><td>f64</td><td>f64</td><td>f64</td><td>f64</td><td>f64</td><td>f64</td><td>f64</td><td>f64</td><td>f64</td><td>f64</td><td>f64</td><td>f64</td><td>str</td><td>f64</td><td>f64</td><td>str</td><td>f64</td><td>f64</td><td>f64</td><td>f64</td><td>f64</td><td>f64</td><td>str</td><td>f64</td><td>f64</td><td>f64</td><td>f64</td><td>f64</td><td>f64</td><td>f64</td><td>f64</td><td>f64</td><td>f64</td><td>f64</td><td>f64</td></tr></thead><tbody><tr><td>&quot;count&quot;</td><td>4.959183e6</td><td>&quot;4959183&quot;</td><td>4.959183e6</td><td>4.959183e6</td><td>&quot;253431&quot;</td><td>&quot;254624&quot;</td><td>4.959183e6</td><td>4.959183e6</td><td>4.959183e6</td><td>4.951917e6</td><td>4.959183e6</td><td>4.959183e6</td><td>3.871151e6</td><td>4.959183e6</td><td>4.959183e6</td><td>4.959183e6</td><td>4.959183e6</td><td>4.959183e6</td><td>4.959183e6</td><td>4.959183e6</td><td>4.959183e6</td><td>4.959183e6</td><td>4.959183e6</td><td>&quot;318158&quot;</td><td>3.350504e6</td><td>4.959183e6</td><td>&quot;4959183&quot;</td><td>4.959183e6</td><td>4.959183e6</td><td>4.959183e6</td><td>4.959183e6</td><td>4.959183e6</td><td>4.959183e6</td><td>&quot;4959183&quot;</td><td>4.959183e6</td><td>4.959183e6</td><td>4.959183e6</td><td>4.959183e6</td><td>4.959183e6</td><td>4.959183e6</td><td>4.959183e6</td><td>4.951917e6</td><td>4.959183e6</td><td>4.959183e6</td><td>4.959183e6</td><td>4.959183e6</td></tr><tr><td>&quot;null_count&quot;</td><td>0.0</td><td>&quot;0&quot;</td><td>0.0</td><td>0.0</td><td>&quot;4705752&quot;</td><td>&quot;4704559&quot;</td><td>0.0</td><td>0.0</td><td>0.0</td><td>7266.0</td><td>0.0</td><td>0.0</td><td>1.088032e6</td><td>0.0</td><td>0.0</td><td>0.0</td><td>0.0</td><td>0.0</td><td>0.0</td><td>0.0</td><td>0.0</td><td>0.0</td><td>0.0</td><td>&quot;4641025&quot;</td><td>1.608679e6</td><td>0.0</td><td>&quot;0&quot;</td><td>0.0</td><td>0.0</td><td>0.0</td><td>0.0</td><td>0.0</td><td>0.0</td><td>&quot;0&quot;</td><td>0.0</td><td>0.0</td><td>0.0</td><td>0.0</td><td>0.0</td><td>0.0</td><td>0.0</td><td>7266.0</td><td>0.0</td><td>0.0</td><td>0.0</td><td>0.0</td></tr><tr><td>&quot;mean&quot;</td><td>166646.023925</td><td>null</td><td>9.979214</td><td>175.250352</td><td>null</td><td>null</td><td>173.837066</td><td>70081.112228</td><td>3.182542</td><td>3.777628</td><td>0.633909</td><td>2.879367</td><td>0.130453</td><td>4.315754</td><td>229.357547</td><td>0.215903</td><td>14069.670932</td><td>2.394595</td><td>37.773391</td><td>1.972557</td><td>0.346975</td><td>1.111076</td><td>0.4983</td><td>null</td><td>1312.801653</td><td>0.296919</td><td>&quot;2013-03-11 08:04:25.482638&quot;</td><td>2012.803998</td><td>5.157685</td><td>15.644043</td><td>13.723824</td><td>3.836121</td><td>0.245691</td><td>null</td><td>-0.174414</td><td>-0.243205</td><td>0.009588</td><td>0.040719</td><td>0.051146</td><td>-0.042674</td><td>3.770628</td><td>0.952707</td><td>0.23308</td><td>0.196443</td><td>0.105395</td><td>2.722662</td></tr><tr><td>&quot;std&quot;</td><td>96149.918406</td><td>null</td><td>7.667722</td><td>65.902836</td><td>null</td><td>null</td><td>68.350058</td><td>40613.628746</td><td>1.049358</td><td>1.051283</td><td>0.481735</td><td>1.533165</td><td>0.159566</td><td>1.837611</td><td>12463.69268</td><td>0.411448</td><td>8118.397545</td><td>2.080173</td><td>52.221874</td><td>0.861076</td><td>0.726874</td><td>0.430957</td><td>0.499997</td><td>null</td><td>2036.578173</td><td>0.456901</td><td>null</td><td>0.39697</td><td>3.48959</td><td>8.662488</td><td>5.388838</td><td>1.981021</td><td>0.430496</td><td>null</td><td>0.737497</td><td>0.605417</td><td>0.707733</td><td>0.70524</td><td>0.70403</td><td>0.707039</td><td>1.066289</td><td>0.212265</td><td>0.623633</td><td>0.61088</td><td>0.374349</td><td>176.728215</td></tr><tr><td>&quot;min&quot;</td><td>1.0</td><td>&quot;2012-11-01 00:01:37&quot;</td><td>1.0</td><td>1.0</td><td>&quot;1.0&quot;</td><td>&quot;0.0&quot;</td><td>1.0</td><td>1.0</td><td>0.0</td><td>0.0</td><td>0.0</td><td>0.0</td><td>0.0</td><td>0.0</td><td>0.0</td><td>0.0</td><td>2.0</td><td>1.0</td><td>0.0</td><td>1.0</td><td>0.0</td><td>1.0</td><td>0.0</td><td>&quot;-10.0&quot;</td><td>0.01</td><td>0.0</td><td>&quot;2012-11-01 00:01:37&quot;</td><td>2012.0</td><td>1.0</td><td>1.0</td><td>0.0</td><td>1.0</td><td>0.0</td><td>&quot;201211&quot;</td><td>-0.974928</td><td>-0.900969</td><td>-0.974928</td><td>-0.900969</td><td>-0.974928</td><td>-0.900969</td><td>-1.0</td><td>0.0</td><td>0.0</td><td>0.0</td><td>0.0</td><td>0.0</td></tr><tr><td>&quot;25%&quot;</td><td>83312.0</td><td>null</td><td>5.0</td><td>100.0</td><td>null</td><td>null</td><td>100.0</td><td>35021.0</td><td>3.0</td><td>3.5</td><td>0.0</td><td>1.79</td><td>0.019</td><td>4.44</td><td>85.0</td><td>0.0</td><td>7100.0</td><td>1.0</td><td>4.0</td><td>2.0</td><td>0.0</td><td>1.0</td><td>0.0</td><td>null</td><td>142.28</td><td>0.0</td><td>&quot;2013-01-14 18:23:59&quot;</td><td>2013.0</td><td>3.0</td><td>8.0</td><td>10.0</td><td>2.0</td><td>0.0</td><td>null</td><td>-0.781831</td><td>-0.900969</td><td>-0.781831</td><td>-0.900969</td><td>-0.781831</td><td>-0.900969</td><td>3.5</td><td>1.0</td><td>0.0</td><td>0.0</td><td>0.0</td><td>0.0</td></tr><tr><td>&quot;50%&quot;</td><td>167095.0</td><td>null</td><td>5.0</td><td>219.0</td><td>null</td><td>null</td><td>219.0</td><td>69607.0</td><td>3.0</td><td>4.0</td><td>1.0</td><td>2.77</td><td>0.0692</td><td>4.91</td><td>122.26</td><td>0.0</td><td>13609.0</td><td>2.0</td><td>17.0</td><td>2.0</td><td>0.0</td><td>1.0</td><td>0.0</td><td>null</td><td>387.85</td><td>0.0</td><td>&quot;2013-03-13 21:45:56&quot;</td><td>2013.0</td><td>4.0</td><td>16.0</td><td>14.0</td><td>4.0</td><td>0.0</td><td>null</td><td>-0.433884</td><td>-0.222521</td><td>-4.8986e-16</td><td>-0.222521</td><td>-2.4493e-16</td><td>-0.222521</td><td>4.0</td><td>1.0</td><td>0.0</td><td>0.0</td><td>0.0</td><td>0.0</td></tr><tr><td>&quot;75%&quot;</td><td>249966.0</td><td>null</td><td>14.0</td><td>219.0</td><td>null</td><td>null</td><td>219.0</td><td>105179.0</td><td>4.0</td><td>4.5</td><td>1.0</td><td>4.04</td><td>0.1807</td><td>5.31</td><td>185.0</td><td>0.0</td><td>21160.0</td><td>3.0</td><td>49.0</td><td>2.0</td><td>0.0</td><td>1.0</td><td>1.0</td><td>null</td><td>1517.56</td><td>1.0</td><td>&quot;2013-05-09 23:46:53&quot;</td><td>2013.0</td><td>6.0</td><td>23.0</td><td>18.0</td><td>5.0</td><td>0.0</td><td>null</td><td>0.433884</td><td>0.62349</td><td>0.781831</td><td>0.62349</td><td>0.781831</td><td>0.62349</td><td>4.5</td><td>1.0</td><td>0.0</td><td>0.0</td><td>0.0</td><td>1.25</td></tr><tr><td>&quot;max&quot;</td><td>332787.0</td><td>&quot;2013-06-30 23:55:44&quot;</td><td>34.0</td><td>231.0</td><td>&quot;5.0&quot;</td><td>&quot;99.98&quot;</td><td>230.0</td><td>140821.0</td><td>5.0</td><td>5.0</td><td>1.0</td><td>6.98</td><td>1.0</td><td>6.21</td><td>9.66134e6</td><td>1.0</td><td>28416.0</td><td>59.0</td><td>498.0</td><td>9.0</td><td>9.0</td><td>8.0</td><td>1.0</td><td>&quot;-99.9883&quot;</td><td>11692.98</td><td>1.0</td><td>&quot;2013-06-30 23:55:44&quot;</td><td>2013.0</td><td>12.0</td><td>31.0</td><td>23.0</td><td>7.0</td><td>1.0</td><td>&quot;201306&quot;</td><td>0.974928</td><td>0.62349</td><td>0.974928</td><td>1.0</td><td>0.974928</td><td>1.0</td><td>5.0</td><td>1.0</td><td>6.0</td><td>6.0</td><td>6.0</td><td>179995.75</td></tr></tbody></table></div>"
      ]
     },
     "execution_count": 75,
     "metadata": {},
     "output_type": "execute_result"
    }
   ],
   "execution_count": 75
  },
  {
   "cell_type": "code",
   "id": "eee4026c",
   "metadata": {
    "ExecuteTime": {
     "end_time": "2025-05-15T18:35:08.073490Z",
     "start_time": "2025-05-15T18:35:08.046176Z"
    }
   },
   "source": [
    "train_df = train_df.with_columns([\n",
    "    pl.col(\"srch_query_affinity_score\").cast(pl.Float64)\n",
    "])\n",
    "\n",
    "# 2. Compute a fill_value slightly worse than observed minimum\n",
    "min_score = train_df.select(pl.col(\"srch_query_affinity_score\").min()).item()\n",
    "fill_value = min_score - 0.5\n",
    "\n",
    "# 3. Fill missing values and create missing indicator\n",
    "train_df = train_df.with_columns([\n",
    "    pl.col(\"srch_query_affinity_score\").fill_null(fill_value).alias(\"query_affinity_score_cleaned\"),\n",
    "    pl.col(\"srch_query_affinity_score\").is_null().cast(pl.Int8).alias(\"query_affinity_missing\")\n",
    "])"
   ],
   "outputs": [],
   "execution_count": 76
  },
  {
   "cell_type": "code",
   "id": "f80764c7",
   "metadata": {
    "ExecuteTime": {
     "end_time": "2025-05-15T18:35:11.217221Z",
     "start_time": "2025-05-15T18:35:09.807962Z"
    }
   },
   "source": [
    "train_df.describe()"
   ],
   "outputs": [
    {
     "data": {
      "text/plain": [
       "shape: (9, 49)\n",
       "┌───────────┬───────────┬───────────┬───────────┬───┬───────────┬───────────┬───────────┬──────────┐\n",
       "│ statistic ┆ srch_id   ┆ date_time ┆ site_id   ┆ … ┆ num_comps ┆ avg_comp_ ┆ query_aff ┆ query_af │\n",
       "│ ---       ┆ ---       ┆ ---       ┆ ---       ┆   ┆ _with_inv ┆ rate_perc ┆ inity_sco ┆ finity_m │\n",
       "│ str       ┆ f64       ┆ str       ┆ f64       ┆   ┆ entory    ┆ ent_diff  ┆ re_cleane ┆ issing   │\n",
       "│           ┆           ┆           ┆           ┆   ┆ ---       ┆ ---       ┆ d         ┆ ---      │\n",
       "│           ┆           ┆           ┆           ┆   ┆ f64       ┆ f64       ┆ ---       ┆ f64      │\n",
       "│           ┆           ┆           ┆           ┆   ┆           ┆           ┆ f64       ┆          │\n",
       "╞═══════════╪═══════════╪═══════════╪═══════════╪═══╪═══════════╪═══════════╪═══════════╪══════════╡\n",
       "│ count     ┆ 4.959183e ┆ 4959183   ┆ 4.959183e ┆ … ┆ 4.959183e ┆ 4.959183e ┆ 4.959183e ┆ 4.959183 │\n",
       "│           ┆ 6         ┆           ┆ 6         ┆   ┆ 6         ┆ 6         ┆ 6         ┆ e6       │\n",
       "│ null_coun ┆ 0.0       ┆ 0         ┆ 0.0       ┆ … ┆ 0.0       ┆ 0.0       ┆ 0.0       ┆ 0.0      │\n",
       "│ t         ┆           ┆           ┆           ┆   ┆           ┆           ┆           ┆          │\n",
       "│ mean      ┆ 166646.02 ┆ null      ┆ 9.979214  ┆ … ┆ 0.105395  ┆ 2.722662  ┆ -236.7342 ┆ 0.935845 │\n",
       "│           ┆ 3925      ┆           ┆           ┆   ┆           ┆           ┆ 06        ┆          │\n",
       "│ std       ┆ 96149.918 ┆ null      ┆ 7.667722  ┆ … ┆ 0.374349  ┆ 176.72821 ┆ 55.72461  ┆ 0.245029 │\n",
       "│           ┆ 406       ┆           ┆           ┆   ┆           ┆ 5         ┆           ┆          │\n",
       "│ min       ┆ 1.0       ┆ 2012-11-0 ┆ 1.0       ┆ … ┆ 0.0       ┆ 0.0       ┆ -251.2864 ┆ 0.0      │\n",
       "│           ┆           ┆ 1         ┆           ┆   ┆           ┆           ┆           ┆          │\n",
       "│           ┆           ┆ 00:01:37  ┆           ┆   ┆           ┆           ┆           ┆          │\n",
       "│ 25%       ┆ 83312.0   ┆ null      ┆ 5.0       ┆ … ┆ 0.0       ┆ 0.0       ┆ -251.2864 ┆ 1.0      │\n",
       "│ 50%       ┆ 167095.0  ┆ null      ┆ 5.0       ┆ … ┆ 0.0       ┆ 0.0       ┆ -251.2864 ┆ 1.0      │\n",
       "│ 75%       ┆ 249966.0  ┆ null      ┆ 14.0      ┆ … ┆ 0.0       ┆ 1.25      ┆ -251.2864 ┆ 1.0      │\n",
       "│ max       ┆ 332787.0  ┆ 2013-06-3 ┆ 34.0      ┆ … ┆ 6.0       ┆ 179995.75 ┆ -2.4941   ┆ 1.0      │\n",
       "│           ┆           ┆ 0         ┆           ┆   ┆           ┆           ┆           ┆          │\n",
       "│           ┆           ┆ 23:55:44  ┆           ┆   ┆           ┆           ┆           ┆          │\n",
       "└───────────┴───────────┴───────────┴───────────┴───┴───────────┴───────────┴───────────┴──────────┘"
      ],
      "text/html": [
       "<div><style>\n",
       ".dataframe > thead > tr,\n",
       ".dataframe > tbody > tr {\n",
       "  text-align: right;\n",
       "  white-space: pre-wrap;\n",
       "}\n",
       "</style>\n",
       "<small>shape: (9, 49)</small><table border=\"1\" class=\"dataframe\"><thead><tr><th>statistic</th><th>srch_id</th><th>date_time</th><th>site_id</th><th>visitor_location_country_id</th><th>visitor_hist_starrating</th><th>visitor_hist_adr_usd</th><th>prop_country_id</th><th>prop_id</th><th>prop_starrating</th><th>prop_review_score</th><th>prop_brand_bool</th><th>prop_location_score1</th><th>prop_location_score2</th><th>prop_log_historical_price</th><th>price_usd</th><th>promotion_flag</th><th>srch_destination_id</th><th>srch_length_of_stay</th><th>srch_booking_window</th><th>srch_adults_count</th><th>srch_children_count</th><th>srch_room_count</th><th>srch_saturday_night_bool</th><th>srch_query_affinity_score</th><th>orig_destination_distance</th><th>random_bool</th><th>parsed_date</th><th>year</th><th>month</th><th>day</th><th>search_hour</th><th>day_of_week</th><th>is_weekend_search</th><th>year_month</th><th>month_sin</th><th>month_cos</th><th>search_hour_sin</th><th>search_hour_cos</th><th>day_of_week_sin</th><th>day_of_week_cos</th><th>prop_review_score_filled</th><th>has_usable_review</th><th>num_comps_lower</th><th>num_comps_higher</th><th>num_comps_with_inventory</th><th>avg_comp_rate_percent_diff</th><th>query_affinity_score_cleaned</th><th>query_affinity_missing</th></tr><tr><td>str</td><td>f64</td><td>str</td><td>f64</td><td>f64</td><td>str</td><td>str</td><td>f64</td><td>f64</td><td>f64</td><td>f64</td><td>f64</td><td>f64</td><td>f64</td><td>f64</td><td>f64</td><td>f64</td><td>f64</td><td>f64</td><td>f64</td><td>f64</td><td>f64</td><td>f64</td><td>f64</td><td>f64</td><td>f64</td><td>f64</td><td>str</td><td>f64</td><td>f64</td><td>f64</td><td>f64</td><td>f64</td><td>f64</td><td>str</td><td>f64</td><td>f64</td><td>f64</td><td>f64</td><td>f64</td><td>f64</td><td>f64</td><td>f64</td><td>f64</td><td>f64</td><td>f64</td><td>f64</td><td>f64</td><td>f64</td></tr></thead><tbody><tr><td>&quot;count&quot;</td><td>4.959183e6</td><td>&quot;4959183&quot;</td><td>4.959183e6</td><td>4.959183e6</td><td>&quot;253431&quot;</td><td>&quot;254624&quot;</td><td>4.959183e6</td><td>4.959183e6</td><td>4.959183e6</td><td>4.951917e6</td><td>4.959183e6</td><td>4.959183e6</td><td>3.871151e6</td><td>4.959183e6</td><td>4.959183e6</td><td>4.959183e6</td><td>4.959183e6</td><td>4.959183e6</td><td>4.959183e6</td><td>4.959183e6</td><td>4.959183e6</td><td>4.959183e6</td><td>4.959183e6</td><td>318158.0</td><td>3.350504e6</td><td>4.959183e6</td><td>&quot;4959183&quot;</td><td>4.959183e6</td><td>4.959183e6</td><td>4.959183e6</td><td>4.959183e6</td><td>4.959183e6</td><td>4.959183e6</td><td>&quot;4959183&quot;</td><td>4.959183e6</td><td>4.959183e6</td><td>4.959183e6</td><td>4.959183e6</td><td>4.959183e6</td><td>4.959183e6</td><td>4.959183e6</td><td>4.951917e6</td><td>4.959183e6</td><td>4.959183e6</td><td>4.959183e6</td><td>4.959183e6</td><td>4.959183e6</td><td>4.959183e6</td></tr><tr><td>&quot;null_count&quot;</td><td>0.0</td><td>&quot;0&quot;</td><td>0.0</td><td>0.0</td><td>&quot;4705752&quot;</td><td>&quot;4704559&quot;</td><td>0.0</td><td>0.0</td><td>0.0</td><td>7266.0</td><td>0.0</td><td>0.0</td><td>1.088032e6</td><td>0.0</td><td>0.0</td><td>0.0</td><td>0.0</td><td>0.0</td><td>0.0</td><td>0.0</td><td>0.0</td><td>0.0</td><td>0.0</td><td>4.641025e6</td><td>1.608679e6</td><td>0.0</td><td>&quot;0&quot;</td><td>0.0</td><td>0.0</td><td>0.0</td><td>0.0</td><td>0.0</td><td>0.0</td><td>&quot;0&quot;</td><td>0.0</td><td>0.0</td><td>0.0</td><td>0.0</td><td>0.0</td><td>0.0</td><td>0.0</td><td>7266.0</td><td>0.0</td><td>0.0</td><td>0.0</td><td>0.0</td><td>0.0</td><td>0.0</td></tr><tr><td>&quot;mean&quot;</td><td>166646.023925</td><td>null</td><td>9.979214</td><td>175.250352</td><td>null</td><td>null</td><td>173.837066</td><td>70081.112228</td><td>3.182542</td><td>3.777628</td><td>0.633909</td><td>2.879367</td><td>0.130453</td><td>4.315754</td><td>229.357547</td><td>0.215903</td><td>14069.670932</td><td>2.394595</td><td>37.773391</td><td>1.972557</td><td>0.346975</td><td>1.111076</td><td>0.4983</td><td>-24.458869</td><td>1312.801653</td><td>0.296919</td><td>&quot;2013-03-11 08:04:25.482638&quot;</td><td>2012.803998</td><td>5.157685</td><td>15.644043</td><td>13.723824</td><td>3.836121</td><td>0.245691</td><td>null</td><td>-0.174414</td><td>-0.243205</td><td>0.009588</td><td>0.040719</td><td>0.051146</td><td>-0.042674</td><td>3.770628</td><td>0.952707</td><td>0.23308</td><td>0.196443</td><td>0.105395</td><td>2.722662</td><td>-236.734206</td><td>0.935845</td></tr><tr><td>&quot;std&quot;</td><td>96149.918406</td><td>null</td><td>7.667722</td><td>65.902836</td><td>null</td><td>null</td><td>68.350058</td><td>40613.628746</td><td>1.049358</td><td>1.051283</td><td>0.481735</td><td>1.533165</td><td>0.159566</td><td>1.837611</td><td>12463.69268</td><td>0.411448</td><td>8118.397545</td><td>2.080173</td><td>52.221874</td><td>0.861076</td><td>0.726874</td><td>0.430957</td><td>0.499997</td><td>15.870841</td><td>2036.578173</td><td>0.456901</td><td>null</td><td>0.39697</td><td>3.48959</td><td>8.662488</td><td>5.388838</td><td>1.981021</td><td>0.430496</td><td>null</td><td>0.737497</td><td>0.605417</td><td>0.707733</td><td>0.70524</td><td>0.70403</td><td>0.707039</td><td>1.066289</td><td>0.212265</td><td>0.623633</td><td>0.61088</td><td>0.374349</td><td>176.728215</td><td>55.72461</td><td>0.245029</td></tr><tr><td>&quot;min&quot;</td><td>1.0</td><td>&quot;2012-11-01 00:01:37&quot;</td><td>1.0</td><td>1.0</td><td>&quot;1.0&quot;</td><td>&quot;0.0&quot;</td><td>1.0</td><td>1.0</td><td>0.0</td><td>0.0</td><td>0.0</td><td>0.0</td><td>0.0</td><td>0.0</td><td>0.0</td><td>0.0</td><td>2.0</td><td>1.0</td><td>0.0</td><td>1.0</td><td>0.0</td><td>1.0</td><td>0.0</td><td>-250.7864</td><td>0.01</td><td>0.0</td><td>&quot;2012-11-01 00:01:37&quot;</td><td>2012.0</td><td>1.0</td><td>1.0</td><td>0.0</td><td>1.0</td><td>0.0</td><td>&quot;201211&quot;</td><td>-0.974928</td><td>-0.900969</td><td>-0.974928</td><td>-0.900969</td><td>-0.974928</td><td>-0.900969</td><td>-1.0</td><td>0.0</td><td>0.0</td><td>0.0</td><td>0.0</td><td>0.0</td><td>-251.2864</td><td>0.0</td></tr><tr><td>&quot;25%&quot;</td><td>83312.0</td><td>null</td><td>5.0</td><td>100.0</td><td>null</td><td>null</td><td>100.0</td><td>35021.0</td><td>3.0</td><td>3.5</td><td>0.0</td><td>1.79</td><td>0.019</td><td>4.44</td><td>85.0</td><td>0.0</td><td>7100.0</td><td>1.0</td><td>4.0</td><td>2.0</td><td>0.0</td><td>1.0</td><td>0.0</td><td>-31.3732</td><td>142.28</td><td>0.0</td><td>&quot;2013-01-14 18:23:59&quot;</td><td>2013.0</td><td>3.0</td><td>8.0</td><td>10.0</td><td>2.0</td><td>0.0</td><td>null</td><td>-0.781831</td><td>-0.900969</td><td>-0.781831</td><td>-0.900969</td><td>-0.781831</td><td>-0.900969</td><td>3.5</td><td>1.0</td><td>0.0</td><td>0.0</td><td>0.0</td><td>0.0</td><td>-251.2864</td><td>1.0</td></tr><tr><td>&quot;50%&quot;</td><td>167095.0</td><td>null</td><td>5.0</td><td>219.0</td><td>null</td><td>null</td><td>219.0</td><td>69607.0</td><td>3.0</td><td>4.0</td><td>1.0</td><td>2.77</td><td>0.0692</td><td>4.91</td><td>122.26</td><td>0.0</td><td>13609.0</td><td>2.0</td><td>17.0</td><td>2.0</td><td>0.0</td><td>1.0</td><td>0.0</td><td>-20.5755</td><td>387.85</td><td>0.0</td><td>&quot;2013-03-13 21:45:56&quot;</td><td>2013.0</td><td>4.0</td><td>16.0</td><td>14.0</td><td>4.0</td><td>0.0</td><td>null</td><td>-0.433884</td><td>-0.222521</td><td>-4.8986e-16</td><td>-0.222521</td><td>-2.4493e-16</td><td>-0.222521</td><td>4.0</td><td>1.0</td><td>0.0</td><td>0.0</td><td>0.0</td><td>0.0</td><td>-251.2864</td><td>1.0</td></tr><tr><td>&quot;75%&quot;</td><td>249966.0</td><td>null</td><td>14.0</td><td>219.0</td><td>null</td><td>null</td><td>219.0</td><td>105179.0</td><td>4.0</td><td>4.5</td><td>1.0</td><td>4.04</td><td>0.1807</td><td>5.31</td><td>185.0</td><td>0.0</td><td>21160.0</td><td>3.0</td><td>49.0</td><td>2.0</td><td>0.0</td><td>1.0</td><td>1.0</td><td>-13.4587</td><td>1517.56</td><td>1.0</td><td>&quot;2013-05-09 23:46:53&quot;</td><td>2013.0</td><td>6.0</td><td>23.0</td><td>18.0</td><td>5.0</td><td>0.0</td><td>null</td><td>0.433884</td><td>0.62349</td><td>0.781831</td><td>0.62349</td><td>0.781831</td><td>0.62349</td><td>4.5</td><td>1.0</td><td>0.0</td><td>0.0</td><td>0.0</td><td>1.25</td><td>-251.2864</td><td>1.0</td></tr><tr><td>&quot;max&quot;</td><td>332787.0</td><td>&quot;2013-06-30 23:55:44&quot;</td><td>34.0</td><td>231.0</td><td>&quot;5.0&quot;</td><td>&quot;99.98&quot;</td><td>230.0</td><td>140821.0</td><td>5.0</td><td>5.0</td><td>1.0</td><td>6.98</td><td>1.0</td><td>6.21</td><td>9.66134e6</td><td>1.0</td><td>28416.0</td><td>59.0</td><td>498.0</td><td>9.0</td><td>9.0</td><td>8.0</td><td>1.0</td><td>-2.4941</td><td>11692.98</td><td>1.0</td><td>&quot;2013-06-30 23:55:44&quot;</td><td>2013.0</td><td>12.0</td><td>31.0</td><td>23.0</td><td>7.0</td><td>1.0</td><td>&quot;201306&quot;</td><td>0.974928</td><td>0.62349</td><td>0.974928</td><td>1.0</td><td>0.974928</td><td>1.0</td><td>5.0</td><td>1.0</td><td>6.0</td><td>6.0</td><td>6.0</td><td>179995.75</td><td>-2.4941</td><td>1.0</td></tr></tbody></table></div>"
      ]
     },
     "execution_count": 77,
     "metadata": {},
     "output_type": "execute_result"
    }
   ],
   "execution_count": 77
  },
  {
   "cell_type": "code",
   "id": "891d823c",
   "metadata": {
    "ExecuteTime": {
     "end_time": "2025-05-15T18:28:34.938540Z",
     "start_time": "2025-05-15T18:28:34.591491Z"
    }
   },
   "source": [
    "# Clean price\n",
    "sampled_df = train_df.sample(n=100_000, with_replacement=False, shuffle=True)\n",
    "\n",
    "plt.figure(figsize=(10, 5))\n",
    "sns.kdeplot(sampled_df['price_usd'], fill=True)\n",
    "plt.title(\"Density Plot of price_usd (Sampled)\")\n",
    "plt.xlabel(\"Price (USD)\")\n",
    "plt.ylabel(\"Density\")\n",
    "plt.grid(True)\n",
    "plt.tight_layout()\n",
    "plt.show()\n",
    "\n"
   ],
   "outputs": [
    {
     "data": {
      "text/plain": [
       "<Figure size 1000x500 with 1 Axes>"
      ],
      "image/png": "[encoded data removed]"
     },
     "metadata": {},
     "output_type": "display_data"
    }
   ],
   "execution_count": 54
  },
  {
   "metadata": {
    "ExecuteTime": {
     "end_time": "2025-05-15T18:35:17.933585Z",
     "start_time": "2025-05-15T18:35:16.042036Z"
    }
   },
   "cell_type": "code",
   "source": [
    "import pandas as pd\n",
    "\n",
    "# to easily reuse the code from Val's script to clean the price_usd column\n",
    "train_data = train_df.to_pandas()\n",
    "\n",
    "# verify that worked\n",
    "print(train_data.head())"
   ],
   "id": "57483632c837fabf",
   "outputs": [
    {
     "name": "stdout",
     "output_type": "stream",
     "text": [
      "   srch_id            date_time  site_id  visitor_location_country_id visitor_hist_starrating visitor_hist_adr_usd  prop_country_id  prop_id  prop_starrating  prop_review_score  prop_brand_bool  prop_location_score1  prop_location_score2  prop_log_historical_price  price_usd  promotion_flag  srch_destination_id  srch_length_of_stay  srch_booking_window  srch_adults_count  srch_children_count  srch_room_count  srch_saturday_night_bool  srch_query_affinity_score  orig_destination_distance  random_bool         parsed_date  year  month  day  search_hour  day_of_week  is_weekend_search year_month  month_sin  month_cos  search_hour_sin  search_hour_cos  day_of_week_sin  day_of_week_cos  prop_review_score_filled  has_usable_review  num_comps_lower  num_comps_higher  num_comps_with_inventory  avg_comp_rate_percent_diff  query_affinity_score_cleaned  query_affinity_missing\n",
      "0        1  2013-02-02 15:27:40       24                          216                    None                 None              219     3180                3                4.5                1                  2.94                0.0691                       5.03      119.0               0                19222                    1                   10                  2                    0                1                         0                        NaN                        NaN            0 2013-02-02 15:27:40  2013      2    2           15            6                  1     201302   0.974928  -0.222521         0.781831          0.62349        -0.781831          0.62349                       4.5                1.0                0                 0                         0                        0.00                     -251.2864                       1\n",
      "1        1  2013-02-02 15:27:40       24                          216                    None                 None              219     5543                3                4.5                1                  2.64                0.0843                       4.93      118.0               0                19222                    1                   10                  2                    0                1                         0                        NaN                        NaN            0 2013-02-02 15:27:40  2013      2    2           15            6                  1     201302   0.974928  -0.222521         0.781831          0.62349        -0.781831          0.62349                       4.5                1.0                0                 0                         0                        0.00                     -251.2864                       1\n",
      "2        1  2013-02-02 15:27:40       24                          216                    None                 None              219    14142                2                3.5                1                  2.71                0.0556                       4.16       49.0               0                19222                    1                   10                  2                    0                1                         0                        NaN                        NaN            0 2013-02-02 15:27:40  2013      2    2           15            6                  1     201302   0.974928  -0.222521         0.781831          0.62349        -0.781831          0.62349                       3.5                1.0                1                 0                         0                        1.25                     -251.2864                       1\n",
      "3        1  2013-02-02 15:27:40       24                          216                    None                 None              219    22393                3                4.5                1                  2.40                0.0561                       5.03      143.0               0                19222                    1                   10                  2                    0                1                         0                        NaN                        NaN            0 2013-02-02 15:27:40  2013      2    2           15            6                  1     201302   0.974928  -0.222521         0.781831          0.62349        -0.781831          0.62349                       4.5                1.0                0                 0                         0                        0.00                     -251.2864                       1\n",
      "4        1  2013-02-02 15:27:40       24                          216                    None                 None              219    24194                3                4.5                1                  2.94                0.2090                       4.72       79.0               0                19222                    1                   10                  2                    0                1                         0                        NaN                        NaN            0 2013-02-02 15:27:40  2013      2    2           15            6                  1     201302   0.974928  -0.222521         0.781831          0.62349        -0.781831          0.62349                       4.5                1.0                0                 0                         0                        0.00                     -251.2864                       1\n"
     ]
    }
   ],
   "execution_count": 78
  },
  {
   "metadata": {
    "ExecuteTime": {
     "end_time": "2025-05-15T18:35:18.132189Z",
     "start_time": "2025-05-15T18:35:17.992843Z"
    }
   },
   "cell_type": "code",
   "source": [
    "# The gross price column in the training data will be used to determine which countries display price information per night or for the whole stay\n",
    "test = train_data[['prop_country_id', 'prop_log_historical_price', 'price_usd', 'srch_length_of_stay', 'gross_bookings_usd']]\n",
    "test = test[test['gross_bookings_usd'].notna()]  # only keep non-NaN observations\n",
    "\n",
    "# adjusting the historical price\n",
    "test['prop_historical_price'] = test['prop_log_historical_price'].replace(0, np.nan) # no meaningful comparison can be done\n",
    "test['prop_historical_price'] = np.exp(test['prop_historical_price']).round(2) # converting to USD\n",
    "\n",
    "# checking out some observations\n",
    "print(test.head())\n",
    "\n",
    "# The gross_booking_usd tends to be higher than the price_usd, due to taxes and other fees. For gross_bookings_usd observations that are significantly higher, that has to mean the price_usd is per night\n",
    "\n",
    "# any cases where gross booking price is lower than price_usd?\n",
    "print(test[test['gross_bookings_usd'] < test['price_usd']][['prop_country_id', 'prop_historical_price', 'price_usd', 'srch_length_of_stay', 'gross_bookings_usd']].head(50))\n",
    "\n",
    "# any NaN values for either price_usd or gross_bookings_usd?\n",
    "print(test[test['gross_bookings_usd'].isna() | test['price_usd'].isna()][['prop_country_id', 'prop_historical_price', 'price_usd', 'srch_length_of_stay', 'gross_bookings_usd']].head(50)) # empty dataframe\n",
    "\n",
    "# any cases where gross booking price or the USD price is 0?\n",
    "print(test[test['gross_bookings_usd'] == 0][['prop_country_id', 'prop_historical_price', 'price_usd', 'srch_length_of_stay', 'gross_bookings_usd']].head(50)) # not empty\n",
    "\n",
    "# They are all cases where the price_usd is listed but the gross_bookings_usd is 0. For these I will assign them their price_usd value\n",
    "test.loc[test['gross_bookings_usd'] == 0, 'gross_bookings_usd'] = test['price_usd']\n",
    "\n",
    "# for cases where price_usd is equal to 0 (there are only 2), I assign the gross_bookings_usd price\n",
    "test.loc[test['price_usd'] == 0, 'price_usd'] = test['gross_bookings_usd']\n",
    "\n",
    "# In general the observations are slightly lower, I wonder if this is due to discounts or currency conversions. Calculating a ratio\n",
    "test['gross_bookings_usd_ratio'] = (test['gross_bookings_usd'] / test['srch_length_of_stay']) / test['price_usd']\n",
    "\n",
    "# ratio summary statistics\n",
    "print(test['gross_bookings_usd_ratio'].describe())\n",
    "\n",
    "# all observations with only one night are assigned a class value of 'one_night'\n",
    "test['class'] = pd.Series(np.nan, index=test.index, dtype='object')\n",
    "test.loc[test['srch_length_of_stay'] == 1, 'class'] = 'one_night'\n",
    "\n",
    "# For cases where the USD price is higher than the gross price, and the number of nights specified is larger than 1, we assume price_usd is for the whole stay\n",
    "test.loc[\n",
    "    (test['price_usd'] > test['gross_bookings_usd']) &\n",
    "    (test['srch_length_of_stay'] > 1),\n",
    "    'class'\n",
    "] = 'per_stay'\n",
    "\n",
    "# Looking at cases with low ratios\n",
    "print(test[test['gross_bookings_usd_ratio'] < 0.35][['prop_country_id', 'prop_historical_price', 'price_usd', 'srch_length_of_stay', 'gross_bookings_usd', 'class']].head(50))\n",
    "\n",
    "# cases with high ratios\n",
    "print(test[test['gross_bookings_usd_ratio'] > 1.5][['prop_country_id', 'prop_historical_price', 'price_usd', 'srch_length_of_stay', 'gross_bookings_usd', 'class']].head(50))\n",
    "\n",
    "# cases with a ratio higher than 1.5 and where the number of nights specified is larger than 1 are assumed to have a class value of per_night\n",
    "test.loc[\n",
    "    (test['gross_bookings_usd_ratio'] > 1.3) &\n",
    "    (test['srch_length_of_stay'] > 1),\n",
    "    'class'\n",
    "] = 'per_night'\n",
    "\n",
    "# looking at observations with a ratio between 0.7 and 1.3\n",
    "print(test[(test['gross_bookings_usd_ratio'] > 0.7) & (test['gross_bookings_usd_ratio'] < 1.3)][['prop_country_id', 'prop_historical_price', 'price_usd', 'srch_length_of_stay', 'gross_bookings_usd', 'class']].head(50))\n",
    "\n",
    "# these observations will be made per night\n",
    "test.loc[\n",
    "    test['class'].isna() &\n",
    "    (test['gross_bookings_usd_ratio'] > 0.7) &\n",
    "    (test['gross_bookings_usd_ratio'] < 1.3),\n",
    "    'class'\n",
    "] = 'per_night'\n",
    "\n",
    "# for observations where class is still NaN, srch_length_of_stay > 1, and the price is lower than the gross price, we assume the price is per stay\n",
    "test.loc[\n",
    "    test['class'].isna() &\n",
    "    (test['srch_length_of_stay'] > 1) &\n",
    "    (test['price_usd'] <= test['gross_bookings_usd']),\n",
    "    'class'\n",
    "] = 'per_stay'\n",
    "\n",
    "# which observations are still NaN?\n",
    "print(test[test['class'].isna()][['class', 'gross_bookings_usd_ratio', 'price_usd', 'srch_length_of_stay', 'gross_bookings_usd']].head(50)) # empty!\n",
    "\n",
    "# Now I will aggregate the data by country ID and compute the percentages of class. First, all observations that are one_night are dropped.\n",
    "filtered = test[test['class'] != 'one_night'].copy()\n",
    "counts = filtered.groupby(['prop_country_id', 'class']).size().reset_index(name='count')\n",
    "totals = counts.groupby('prop_country_id')['count'].transform('sum')\n",
    "counts['percentage'] = counts['count'] / totals * 100\n",
    "counts['percentage'] = counts['percentage'].round(2)\n",
    "counts = counts.sort_values(by=['prop_country_id', 'percentage'], ascending=[True, False])\n",
    "print(counts)\n",
    "\n",
    "# are all the countries accounted for?\n",
    "print(counts['prop_country_id'].nunique()) # 156\n",
    "print(train_data['prop_country_id'].nunique()) # 172\n",
    "\n",
    "# 16 countries are missing. They will be dealt with later, but for now I will create a dictionary with the class values for each country. Only the first class (the likeliest one) will be used\n",
    "top_class_per_country = counts.drop_duplicates(subset='prop_country_id', keep='first')"
   ],
   "id": "fa4fbcb7eba1806f",
   "outputs": [
    {
     "ename": "KeyError",
     "evalue": "\"['gross_bookings_usd'] not in index\"",
     "output_type": "error",
     "traceback": [
      "\u001B[31m---------------------------------------------------------------------------\u001B[39m",
      "\u001B[31mKeyError\u001B[39m                                  Traceback (most recent call last)",
      "\u001B[36mCell\u001B[39m\u001B[36m \u001B[39m\u001B[32mIn[79]\u001B[39m\u001B[32m, line 2\u001B[39m\n\u001B[32m      1\u001B[39m \u001B[38;5;66;03m# The gross price column in the training data will be used to determine which countries display price information per night or for the whole stay\u001B[39;00m\n\u001B[32m----> \u001B[39m\u001B[32m2\u001B[39m test = \u001B[43mtrain_data\u001B[49m\u001B[43m[\u001B[49m\u001B[43m[\u001B[49m\u001B[33;43m'\u001B[39;49m\u001B[33;43mprop_country_id\u001B[39;49m\u001B[33;43m'\u001B[39;49m\u001B[43m,\u001B[49m\u001B[43m \u001B[49m\u001B[33;43m'\u001B[39;49m\u001B[33;43mprop_log_historical_price\u001B[39;49m\u001B[33;43m'\u001B[39;49m\u001B[43m,\u001B[49m\u001B[43m \u001B[49m\u001B[33;43m'\u001B[39;49m\u001B[33;43mprice_usd\u001B[39;49m\u001B[33;43m'\u001B[39;49m\u001B[43m,\u001B[49m\u001B[43m \u001B[49m\u001B[33;43m'\u001B[39;49m\u001B[33;43msrch_length_of_stay\u001B[39;49m\u001B[33;43m'\u001B[39;49m\u001B[43m,\u001B[49m\u001B[43m \u001B[49m\u001B[33;43m'\u001B[39;49m\u001B[33;43mgross_bookings_usd\u001B[39;49m\u001B[33;43m'\u001B[39;49m\u001B[43m]\u001B[49m\u001B[43m]\u001B[49m\n\u001B[32m      3\u001B[39m test = test[test[\u001B[33m'\u001B[39m\u001B[33mgross_bookings_usd\u001B[39m\u001B[33m'\u001B[39m].notna()]  \u001B[38;5;66;03m# only keep non-NaN observations\u001B[39;00m\n\u001B[32m      5\u001B[39m \u001B[38;5;66;03m# adjusting the historical price\u001B[39;00m\n",
      "\u001B[36mFile \u001B[39m\u001B[32m~/Documents/Stuff/.venv/lib/python3.13/site-packages/pandas/core/frame.py:4108\u001B[39m, in \u001B[36mDataFrame.__getitem__\u001B[39m\u001B[34m(self, key)\u001B[39m\n\u001B[32m   4106\u001B[39m     \u001B[38;5;28;01mif\u001B[39;00m is_iterator(key):\n\u001B[32m   4107\u001B[39m         key = \u001B[38;5;28mlist\u001B[39m(key)\n\u001B[32m-> \u001B[39m\u001B[32m4108\u001B[39m     indexer = \u001B[38;5;28;43mself\u001B[39;49m\u001B[43m.\u001B[49m\u001B[43mcolumns\u001B[49m\u001B[43m.\u001B[49m\u001B[43m_get_indexer_strict\u001B[49m\u001B[43m(\u001B[49m\u001B[43mkey\u001B[49m\u001B[43m,\u001B[49m\u001B[43m \u001B[49m\u001B[33;43m\"\u001B[39;49m\u001B[33;43mcolumns\u001B[39;49m\u001B[33;43m\"\u001B[39;49m\u001B[43m)\u001B[49m[\u001B[32m1\u001B[39m]\n\u001B[32m   4110\u001B[39m \u001B[38;5;66;03m# take() does not accept boolean indexers\u001B[39;00m\n\u001B[32m   4111\u001B[39m \u001B[38;5;28;01mif\u001B[39;00m \u001B[38;5;28mgetattr\u001B[39m(indexer, \u001B[33m\"\u001B[39m\u001B[33mdtype\u001B[39m\u001B[33m\"\u001B[39m, \u001B[38;5;28;01mNone\u001B[39;00m) == \u001B[38;5;28mbool\u001B[39m:\n",
      "\u001B[36mFile \u001B[39m\u001B[32m~/Documents/Stuff/.venv/lib/python3.13/site-packages/pandas/core/indexes/base.py:6200\u001B[39m, in \u001B[36mIndex._get_indexer_strict\u001B[39m\u001B[34m(self, key, axis_name)\u001B[39m\n\u001B[32m   6197\u001B[39m \u001B[38;5;28;01melse\u001B[39;00m:\n\u001B[32m   6198\u001B[39m     keyarr, indexer, new_indexer = \u001B[38;5;28mself\u001B[39m._reindex_non_unique(keyarr)\n\u001B[32m-> \u001B[39m\u001B[32m6200\u001B[39m \u001B[38;5;28;43mself\u001B[39;49m\u001B[43m.\u001B[49m\u001B[43m_raise_if_missing\u001B[49m\u001B[43m(\u001B[49m\u001B[43mkeyarr\u001B[49m\u001B[43m,\u001B[49m\u001B[43m \u001B[49m\u001B[43mindexer\u001B[49m\u001B[43m,\u001B[49m\u001B[43m \u001B[49m\u001B[43maxis_name\u001B[49m\u001B[43m)\u001B[49m\n\u001B[32m   6202\u001B[39m keyarr = \u001B[38;5;28mself\u001B[39m.take(indexer)\n\u001B[32m   6203\u001B[39m \u001B[38;5;28;01mif\u001B[39;00m \u001B[38;5;28misinstance\u001B[39m(key, Index):\n\u001B[32m   6204\u001B[39m     \u001B[38;5;66;03m# GH 42790 - Preserve name from an Index\u001B[39;00m\n",
      "\u001B[36mFile \u001B[39m\u001B[32m~/Documents/Stuff/.venv/lib/python3.13/site-packages/pandas/core/indexes/base.py:6252\u001B[39m, in \u001B[36mIndex._raise_if_missing\u001B[39m\u001B[34m(self, key, indexer, axis_name)\u001B[39m\n\u001B[32m   6249\u001B[39m     \u001B[38;5;28;01mraise\u001B[39;00m \u001B[38;5;167;01mKeyError\u001B[39;00m(\u001B[33mf\u001B[39m\u001B[33m\"\u001B[39m\u001B[33mNone of [\u001B[39m\u001B[38;5;132;01m{\u001B[39;00mkey\u001B[38;5;132;01m}\u001B[39;00m\u001B[33m] are in the [\u001B[39m\u001B[38;5;132;01m{\u001B[39;00maxis_name\u001B[38;5;132;01m}\u001B[39;00m\u001B[33m]\u001B[39m\u001B[33m\"\u001B[39m)\n\u001B[32m   6251\u001B[39m not_found = \u001B[38;5;28mlist\u001B[39m(ensure_index(key)[missing_mask.nonzero()[\u001B[32m0\u001B[39m]].unique())\n\u001B[32m-> \u001B[39m\u001B[32m6252\u001B[39m \u001B[38;5;28;01mraise\u001B[39;00m \u001B[38;5;167;01mKeyError\u001B[39;00m(\u001B[33mf\u001B[39m\u001B[33m\"\u001B[39m\u001B[38;5;132;01m{\u001B[39;00mnot_found\u001B[38;5;132;01m}\u001B[39;00m\u001B[33m not in index\u001B[39m\u001B[33m\"\u001B[39m)\n",
      "\u001B[31mKeyError\u001B[39m: \"['gross_bookings_usd'] not in index\""
     ]
    }
   ],
   "execution_count": 79
  },
  {
   "metadata": {
    "ExecuteTime": {
     "end_time": "2025-05-15T18:35:20.136473Z",
     "start_time": "2025-05-15T18:35:20.131792Z"
    }
   },
   "cell_type": "code",
   "source": [
    "print(top_class_per_country.sort_values('percentage', ascending=True))\n",
    "\n",
    "# The country with the smallest probability is at 75%. That is already really good. We can be confident then that the class values are correct. I will still use the price ratio method with the historical price to verify this"
   ],
   "id": "f92e48d234a6b7eb",
   "outputs": [
    {
     "name": "stdout",
     "output_type": "stream",
     "text": [
      "     prop_country_id      class  count  percentage\n",
      "147              143  per_night      3       75.00\n",
      "196              195  per_night      4       80.00\n",
      "166              159  per_night     11       84.62\n",
      "20                21  per_night      6       85.71\n",
      "122              113  per_night     13       86.67\n",
      "..               ...        ...    ...         ...\n",
      "120              111  per_night      1      100.00\n",
      "117              106  per_night     25      100.00\n",
      "106               97  per_night     13      100.00\n",
      "138              131  per_night      3      100.00\n",
      "126              119  per_night     22      100.00\n",
      "\n",
      "[156 rows x 4 columns]\n"
     ]
    }
   ],
   "execution_count": 80
  },
  {
   "metadata": {
    "ExecuteTime": {
     "end_time": "2025-05-15T18:18:14.131696Z",
     "start_time": "2025-05-15T18:18:14.100157Z"
    }
   },
   "cell_type": "code",
   "source": [
    "# How many countries are not per night?\n",
    "print(top_class_per_country[top_class_per_country['class'] != 'per_night']['prop_country_id'].nunique()) # 1 only\n",
    "\n",
    "top_class_per_country[top_class_per_country['class'] != 'per_night'] # country 204"
   ],
   "id": "a0e3e0a1965acce6",
   "outputs": [
    {
     "name": "stdout",
     "output_type": "stream",
     "text": [
      "1\n"
     ]
    },
    {
     "data": {
      "text/plain": [
       "     prop_country_id     class  count  percentage\n",
       "206              204  per_stay      1       100.0"
      ],
      "text/html": [
       "<div>\n",
       "<style scoped>\n",
       "    .dataframe tbody tr th:only-of-type {\n",
       "        vertical-align: middle;\n",
       "    }\n",
       "\n",
       "    .dataframe tbody tr th {\n",
       "        vertical-align: top;\n",
       "    }\n",
       "\n",
       "    .dataframe thead th {\n",
       "        text-align: right;\n",
       "    }\n",
       "</style>\n",
       "<table border=\"1\" class=\"dataframe\">\n",
       "  <thead>\n",
       "    <tr style=\"text-align: right;\">\n",
       "      <th></th>\n",
       "      <th>prop_country_id</th>\n",
       "      <th>class</th>\n",
       "      <th>count</th>\n",
       "      <th>percentage</th>\n",
       "    </tr>\n",
       "  </thead>\n",
       "  <tbody>\n",
       "    <tr>\n",
       "      <th>206</th>\n",
       "      <td>204</td>\n",
       "      <td>per_stay</td>\n",
       "      <td>1</td>\n",
       "      <td>100.0</td>\n",
       "    </tr>\n",
       "  </tbody>\n",
       "</table>\n",
       "</div>"
      ]
     },
     "execution_count": 26,
     "metadata": {},
     "output_type": "execute_result"
    }
   ],
   "execution_count": 26
  },
  {
   "metadata": {
    "ExecuteTime": {
     "end_time": "2025-05-15T18:35:26.561686Z",
     "start_time": "2025-05-15T18:35:25.440793Z"
    }
   },
   "cell_type": "code",
   "source": [
    "# One of the columns is the logged historical price over the last trading period, where a 0 is if it wasn't sold then. I will convert this to standard USD and create a column comparing that to the given price. However the price may be per night or for the whole stay, depending on the country. The srch_length_of_stay will be used to determine that.\n",
    "train_data['prop_historical_price'] = train_data['prop_log_historical_price'].replace(0, np.nan) # no meaningful comparison can be done\n",
    "train_data['prop_historical_price'] = np.exp(train_data['prop_historical_price']).round(2) # converting to USD\n",
    "\n",
    "# In order to determine if the price is per night or the whole stay, I will divide the displayed price with the number of nights the user specified. This will be compared to the historical price in USD. If the value is significantly lower than the historical price, then the price is per night. If it is around the same, then the price is for the whole stay.\n",
    "train_data['price_usd_per_night_test'] = train_data['price_usd'] / train_data['srch_length_of_stay']\n",
    "\n",
    "# display adjustments\n",
    "pd.set_option('display.max_columns', None)   # show all columns\n",
    "pd.set_option('display.width', 1000)         # or set to a large number\n",
    "pd.set_option('display.max_colwidth', None)  # avoid truncating long cell contents\n",
    "\n",
    "# One of the variables is whether a hotel has a sales promotion currently displayed. That would affect the current price but not the historical price, and it would mean the current price is lower than it historically should be. I will use 25% for the adjustment, which is only for observations where the hotel has a sale\n",
    "\n",
    "# Decreasing a price value by 25% means the decreased value has to be increased by 33% in order to get back to what it originally was\n",
    "train_data['price_usd_without_promo'] = np.where(train_data['promotion_flag'] == 1, train_data['price_usd'] * 1.33, train_data['price_usd']).round(2)\n",
    "\n",
    "# actually I think the historical_price column is already per night, or at least the description doesn't say anything about that. I will calculate a ratio between the two prices and see if it is significantly different than 1\n",
    "train_data['price_ratio'] = train_data['price_usd_without_promo'] / train_data['prop_historical_price']\n",
    "\n",
    "# looking at the ratio\n",
    "print(train_data[['prop_historical_price', 'price_usd_without_promo', 'srch_length_of_stay', 'prop_country_id', 'price_ratio', 'promotion_flag']].head(50))\n",
    "\n",
    "# displaying quantile statistics of the ratio\n",
    "print(train_data['price_ratio'].describe())\n",
    "\n",
    "# looking at the smallest values\n",
    "print(train_data[train_data['price_ratio'] < 0.35][['prop_historical_price', 'price_usd_without_promo', 'srch_length_of_stay', 'prop_country_id', 'price_ratio', 'promotion_flag']].head(50))"
   ],
   "id": "af2c5d63e7e81389",
   "outputs": [
    {
     "name": "stdout",
     "output_type": "stream",
     "text": [
      "    prop_historical_price  price_usd_without_promo  srch_length_of_stay  prop_country_id  price_ratio  promotion_flag\n",
      "0                  152.93                   119.00                    1              219     0.778134               0\n",
      "1                  138.38                   118.00                    1              219     0.852724               0\n",
      "2                   64.07                    49.00                    1              219     0.764789               0\n",
      "3                  152.93                   143.00                    1              219     0.935068               0\n",
      "4                  112.17                    79.00                    1              219     0.704288               0\n",
      "5                  107.77                    84.15                    1              219     0.780830               0\n",
      "6                  102.51                    79.00                    1              219     0.770657               0\n",
      "7                   67.36                    69.69                    1              219     1.034590               1\n",
      "8                   78.26                    66.49                    1              219     0.849604               1\n",
      "9                  115.58                   110.79                    1              219     0.958557               1\n",
      "10                  98.49                   145.00                    1              219     1.472231               0\n",
      "11                 101.49                    45.00                    1              219     0.443393               0\n",
      "12                 108.85                   118.21                    1              219     1.085990               1\n",
      "13                 131.63                   103.98                    1              219     0.789942               0\n",
      "14                 141.17                    79.00                    1              219     0.559609               0\n",
      "15                 120.30                   149.00                    1              219     1.238570               0\n",
      "16                  95.58                    89.99                    1              219     0.941515               0\n",
      "17                 157.59                   158.87                    1              219     1.008122               0\n",
      "18                 137.00                   104.00                    1              219     0.759124               0\n",
      "19                  74.44                    58.57                    1              219     0.786808               0\n",
      "20                  81.45                    64.00                    1              219     0.785758               0\n",
      "21                 123.97                   139.00                    1              219     1.121239               0\n",
      "22                  90.02                    69.00                    1              219     0.766496               0\n",
      "23                  93.69                    91.77                    1              219     0.979507               1\n",
      "24                 105.64                   109.00                    1              219     1.031806               0\n",
      "25                  66.02                    63.80                    1              219     0.966374               1\n",
      "26                  67.36                    55.00                    1              219     0.816508               0\n",
      "27                  74.44                   119.00                    1              219     1.598603               0\n",
      "28                 152.93                   169.00                    1              219     1.105081               0\n",
      "29                 121.51                   139.00                    1              219     1.143939               0\n",
      "30                  83.93                    75.00                    1              219     0.893602               0\n",
      "31                  51.94                    50.00                    1              219     0.962649               0\n",
      "32                  49.40                    45.00                    1              219     0.910931               0\n",
      "33                  94.63                    65.00                    1              219     0.686886               0\n",
      "34                  93.69                    95.00                    1              219     1.013982               0\n",
      "35                  93.69                    60.00                    1              219     0.640410               0\n",
      "36                 135.64                   162.00                    1              219     1.194338               0\n",
      "37                 105.64                   149.00                    1              219     1.410451               0\n",
      "38                  90.02                   113.05                    1              219     1.255832               1\n",
      "39                 116.75                   147.00                    1              219     1.259101               0\n",
      "40                  58.56                   109.00                    1              219     1.861339               0\n",
      "41                  51.94                    40.00                    1              219     0.770119               0\n",
      "42                  97.51                   100.00                    1              219     1.025536               0\n",
      "43                  54.05                    46.00                    1              219     0.851064               0\n",
      "44                  54.05                    58.52                    1              219     1.082701               1\n",
      "45                  90.92                    95.00                    1              219     1.044875               0\n",
      "46                  46.53                    65.00                    1              219     1.396948               0\n",
      "47                  68.72                    64.00                    1              219     0.931315               0\n",
      "48                 148.41                   189.00                    1              219     1.273499               0\n",
      "49                  80.64                    99.00                    1              219     1.227679               0\n",
      "count    4.242655e+06\n",
      "mean     1.283581e+00\n",
      "std      4.599777e+01\n",
      "min      0.000000e+00\n",
      "25%      7.039499e-01\n",
      "50%      8.575050e-01\n",
      "75%      1.054105e+00\n",
      "max      3.087055e+04\n",
      "Name: price_ratio, dtype: float64\n",
      "      prop_historical_price  price_usd_without_promo  srch_length_of_stay  prop_country_id  price_ratio  promotion_flag\n",
      "563                  149.90                    51.12                    1              216     0.341027               0\n",
      "660                  142.59                    47.00                    2              219     0.329616               0\n",
      "694                   83.93                    20.78                    4               59     0.247587               0\n",
      "723                  304.90                    96.00                    1              219     0.314857               0\n",
      "814                  214.86                    69.16                    2              219     0.321884               1\n",
      "820                  200.34                    65.93                    2               74     0.329091               0\n",
      "821                  200.34                    63.35                    2               74     0.316212               0\n",
      "822                  200.34                    68.52                    2               74     0.342019               0\n",
      "918                  206.44                    64.00                    2              219     0.310017               0\n",
      "922                  175.91                    38.00                    2              219     0.216020               0\n",
      "931                  149.90                    49.00                    2              219     0.326885               0\n",
      "935                  192.48                    59.00                    2              219     0.306525               0\n",
      "943                  179.47                    57.19                    2              219     0.318661               1\n",
      "949                  181.27                    45.00                    2              219     0.248248               0\n",
      "1043                 478.19                   150.00                    4              127     0.313683               0\n",
      "1088                 407.48                   137.94                    1              219     0.338520               0\n",
      "1099                 314.19                    98.67                    1              219     0.314046               0\n",
      "1105                 340.36                   108.74                    1              219     0.319485               0\n",
      "1428                 497.70                   139.00                    1              219     0.279285               0\n",
      "1451                 177.68                    59.91                    1              216     0.337179               0\n",
      "1563                 230.44                    70.23                    2              117     0.304765               0\n",
      "1565                 108.85                    27.45                    2              117     0.252182               0\n",
      "1566                 152.93                    53.28                    2              117     0.348395               0\n",
      "1567                 135.64                    40.36                    2              117     0.297552               0\n",
      "1572                 135.64                    41.98                    2              117     0.309496               0\n",
      "1582                 107.77                    33.10                    2              117     0.307136               0\n",
      "1666                 317.35                    95.10                    2              159     0.299669               1\n",
      "1908                 497.70                   118.00                    1               98     0.237091               0\n",
      "2723                 119.10                    21.00                    6              219     0.176322               0\n",
      "2858                  29.96                    10.00                    4               14     0.333778               0\n",
      "2975                 138.38                    42.05                    1              129     0.303873               0\n",
      "3851                 295.89                    99.00                    1              219     0.334584               0\n",
      "4036                 228.15                    49.85                    3               53     0.218497               0\n",
      "4503                 130.32                    37.70                    3               55     0.289288               0\n",
      "4518                 106.70                    31.20                    3               55     0.292409               0\n",
      "4520                 156.02                    22.48                    3               55     0.144084               1\n",
      "4532                 137.00                    22.10                    3               55     0.161314               0\n",
      "5178                 228.15                    72.65                    1               31     0.318431               0\n",
      "5192                 244.69                    73.99                    1               31     0.302383               0\n",
      "5267                 122.73                    39.90                    1              219     0.325104               1\n",
      "5268                  75.19                    20.00                    1              219     0.265993               0\n",
      "6831                 407.48                    63.84                    3              219     0.156670               1\n",
      "6832                 254.68                    78.00                    3              219     0.306267               0\n",
      "6851                 175.91                    52.00                    4              178     0.295606               0\n",
      "6854                 109.95                    33.00                    4              178     0.300136               0\n",
      "6857                  98.49                    29.00                    4              178     0.294446               0\n",
      "6863                 217.02                    41.00                    4              178     0.188923               0\n",
      "6879                 200.34                    52.00                    4              178     0.259559               0\n",
      "6881                 254.68                    79.00                    4              178     0.310193               0\n",
      "7447                 254.68                    65.67                    3               31     0.257853               0\n"
     ]
    }
   ],
   "execution_count": 81
  },
  {
   "metadata": {
    "ExecuteTime": {
     "end_time": "2025-05-15T18:35:29.097363Z",
     "start_time": "2025-05-15T18:35:28.425455Z"
    }
   },
   "cell_type": "code",
   "source": [
    "# The adjusted USD price without promotion is significantly lower than the historical price. I will assume that means the price is per night. I will compare this assumption to the gross booking price country classifier\n",
    "comp = pd.DataFrame(set(train_data[train_data['price_ratio'] < 0.35]['prop_country_id'])). \\\n",
    "    rename(columns={0:'prop_country_id'}). \\\n",
    "    merge(top_class_per_country[['prop_country_id', 'class']], on='prop_country_id', how='left')\n",
    "\n",
    "# any cases where the class is not per_night?\n",
    "print(comp[comp['class'] != 'per_night']) # 5\n",
    "\n",
    "# Five countries have NaN values for the class. I already knew earlier that 16 countries are missing from the classifier. As every other country is per_night, then my assumption about the countries with low ratios being per night holds. As the USD price column is per night for these countries, no changes need to be made."
   ],
   "id": "609df0f095e13c88",
   "outputs": [
    {
     "name": "stdout",
     "output_type": "stream",
     "text": [
      "     prop_country_id class\n",
      "52                89   NaN\n",
      "65               108   NaN\n",
      "80               135   NaN\n",
      "112              192   NaN\n"
     ]
    }
   ],
   "execution_count": 82
  },
  {
   "metadata": {
    "ExecuteTime": {
     "end_time": "2025-05-15T18:21:30.721504Z",
     "start_time": "2025-05-15T18:21:29.237131Z"
    }
   },
   "cell_type": "code",
   "source": [
    "# Checking out the other end of the spectrum\n",
    "comp = pd.DataFrame(set(train_data[train_data['price_ratio'] > 2]['prop_country_id'])). \\\n",
    "    rename(columns={0:'prop_country_id'}). \\\n",
    "    merge(top_class_per_country[['prop_country_id', 'class']], on='prop_country_id', how='left')\n",
    "\n",
    "print(train_data[train_data['price_ratio'] > 1.5][['prop_historical_price', 'price_usd_without_promo', 'srch_length_of_stay', 'prop_country_id', 'price_ratio', 'promotion_flag']].head(50))\n",
    "\n",
    "# For cases where the ratio is significantly higher than the historical price, I will assume that means the price is for the whole stay. It will have to be adjusted to be per night. This is a mismatch with the results from earlier\n"
   ],
   "id": "2c83ba9d7cb41a43",
   "outputs": [
    {
     "name": "stdout",
     "output_type": "stream",
     "text": [
      "      prop_historical_price  price_usd_without_promo  srch_length_of_stay  prop_country_id  price_ratio  promotion_flag\n",
      "3                     80.64                   602.77                    1              219     7.474826               0\n",
      "9                    172.43                   280.69                    1              219     1.627849               0\n",
      "23                    84.77                   128.06                    1              219     1.510676               0\n",
      "67                   165.67                   259.00                    1              219     1.563349               0\n",
      "132                   61.56                   195.51                    2              158     3.175926               1\n",
      "149                  175.91                   305.82                    4               31     1.738503               0\n",
      "152                  206.44                   327.58                    4               31     1.586805               0\n",
      "156                  152.93                   278.95                    4               31     1.824037               0\n",
      "157                  148.41                   229.05                    4               31     1.543360               0\n",
      "159                  186.79                   313.14                    4               31     1.676428               1\n",
      "160                  202.35                   340.37                    4               31     1.682085               1\n",
      "275                  368.71                   689.66                    6              219     1.870467               0\n",
      "276                  336.97                   566.88                    6              219     1.682286               0\n",
      "279                  361.41                   576.75                    6              219     1.595833               1\n",
      "281                  317.35                  1332.29                    6              219     4.198172               0\n",
      "283                  497.70                   933.91                    6              219     1.876452               0\n",
      "285                  239.85                   465.57                    6              219     1.941088               1\n",
      "286                  298.87                   517.69                    6              219     1.732158               1\n",
      "287                  497.70                   799.37                    6              219     1.606128               0\n",
      "289                  497.70                  1047.53                    6              219     2.104742               1\n",
      "335                   92.76                   174.53                    1               15     1.881522               0\n",
      "372                   76.71                   319.00                    1              219     4.158519               0\n",
      "376                   78.26                   127.00                    1              219     1.622796               0\n",
      "384                  115.58                   179.00                    1              219     1.548711               0\n",
      "386                   76.71                   429.00                    1              219     5.592491               0\n",
      "389                  104.58                   179.00                    1              219     1.711608               0\n",
      "446                  119.10                   206.15                    1              219     1.730898               1\n",
      "463                  138.38                   300.00                    1              219     2.167943               0\n",
      "493                  174.16                   347.27                    1               55     1.993971               0\n",
      "663                  181.27                   295.00                    5              158     1.627407               0\n",
      "685                  151.41                   285.64                    4               31     1.886533               0\n",
      "695                  113.30                   208.22                    3              219     1.837776               1\n",
      "701                  137.00                   206.83                    3              219     1.509708               1\n",
      "721                  127.74                   209.62                    3              219     1.640990               1\n",
      "722                   98.49                   172.32                    3              219     1.749619               0\n",
      "753                  347.23                   599.00                    1              219     1.725081               0\n",
      "854                   84.77                   128.70                    2              117     1.518226               0\n",
      "893                  497.70                  1070.00                    4              219     2.149889               0\n",
      "904                  411.58                   631.75                    4              219     1.534939               1\n",
      "941                  333.62                   510.00                    1              219     1.528685               0\n",
      "947                  219.20                   348.46                    1              219     1.589690               1\n",
      "949                  254.68                   663.67                    1              219     2.605898               1\n",
      "1000                 174.16                   332.50                    1               15     1.909164               1\n",
      "1013                 320.54                   490.00                    1               15     1.528670               0\n",
      "1086                 148.41                   239.00                    2              219     1.610404               0\n",
      "1145                  83.93                   143.34                    1               31     1.707852               0\n",
      "1148                 174.16                   295.80                    1               31     1.698438               0\n",
      "1152                 126.47                   200.68                    1               31     1.586779               0\n",
      "1156                 106.70                   216.64                    1               31     2.030366               1\n",
      "1161                 126.47                   317.96                    1               31     2.514114               0\n"
     ]
    }
   ],
   "execution_count": 30
  },
  {
   "metadata": {
    "ExecuteTime": {
     "end_time": "2025-05-15T18:35:43.060151Z",
     "start_time": "2025-05-15T18:35:41.722312Z"
    }
   },
   "cell_type": "code",
   "source": [
    "# Verifying the high ratio countries\n",
    "high_ratio = train_data[train_data['price_ratio'] > 1.5].groupby('prop_country_id').size() / train_data.groupby('prop_country_id').size()\n",
    "high_ratio.fillna(0, inplace=True)\n",
    "\n",
    "# only keeping countries that have a high proportion of high ratios\n",
    "high_ratio = high_ratio[high_ratio > 0.4]\n",
    "print(high_ratio) # 2, only these countries have high ratios: 126 and 197\n",
    "\n",
    "# Print observations for these 2 countries\n",
    "print(train_data[train_data['prop_country_id'].isin(high_ratio.index)][['prop_historical_price', 'price_usd_without_promo', 'srch_length_of_stay', 'prop_country_id', 'price_ratio', 'promotion_flag']].head(50))\n",
    "\n",
    "# adjusting the values for the countries with a high ratio\n",
    "train_data.loc[train_data['prop_country_id'].isin(high_ratio.index), 'price_usd_without_promo'] = train_data['price_usd_without_promo'] / train_data['srch_length_of_stay']\n"
   ],
   "id": "aba37656f8ccd782",
   "outputs": [
    {
     "name": "stdout",
     "output_type": "stream",
     "text": [
      "prop_country_id\n",
      "126    0.461538\n",
      "dtype: float64\n",
      "         prop_historical_price  price_usd_without_promo  srch_length_of_stay  prop_country_id  price_ratio  promotion_flag\n",
      "2174932                 198.34                   280.00                   14              126     1.411717               0\n",
      "2174933                 198.34                   200.00                   14              126     1.008369               0\n",
      "2174934                 214.86                   490.00                   14              126     2.280555               0\n",
      "2174935                 323.76                   335.00                   14              126     1.034717               0\n",
      "2174936                 323.76                   456.00                   14              126     1.408451               0\n",
      "2174937                 323.76                   427.00                   14              126     1.318878               0\n",
      "4494798                 181.27                   287.95                    6              126     1.588514               0\n",
      "4494799                 492.75                   483.73                    6              126     0.981695               0\n",
      "4494800                 188.67                   488.72                    6              126     2.590343               0\n",
      "4494801                 473.43                   488.22                    6              126     1.031240               0\n",
      "4494802                 188.67                   337.77                    6              126     1.790269               0\n",
      "4494803                 188.67                   443.38                    6              126     2.350029               0\n",
      "4494804                 188.67                   433.42                    6              126     2.297239               0\n"
     ]
    }
   ],
   "execution_count": 83
  },
  {
   "metadata": {
    "ExecuteTime": {
     "end_time": "2025-05-15T18:35:53.444341Z",
     "start_time": "2025-05-15T18:35:50.812971Z"
    }
   },
   "cell_type": "code",
   "source": [
    "# What is the average price per night for countries? Computing a weighted average between current price and nights\n",
    "weighted_avg = (\n",
    "    train_data\n",
    "    .assign(weighted_price=lambda df: df['price_usd_without_promo'] * df['srch_length_of_stay'])\n",
    "    .groupby('prop_country_id')\n",
    "    .agg(\n",
    "        total_weighted_price=('weighted_price', 'sum'),\n",
    "        total_stay=('srch_length_of_stay', 'sum')\n",
    "    )\n",
    "    .assign(weighted_avg_price_usd_without_promo=lambda df: df['total_weighted_price'] / df['total_stay'])\n",
    "    .round(2)\n",
    "    .reset_index()[['prop_country_id', 'weighted_avg_price_usd_without_promo']]\n",
    ")\n",
    "\n",
    "print(weighted_avg)\n",
    "\n",
    "# quantile statistics\n",
    "print(weighted_avg['weighted_avg_price_usd_without_promo'].describe())\n",
    "\n",
    "# looking at the most expensive countries\n",
    "print(weighted_avg[weighted_avg['weighted_avg_price_usd_without_promo'] > 1000][['prop_country_id', 'weighted_avg_price_usd_without_promo']])"
   ],
   "id": "8748cf9a2aa1f249",
   "outputs": [
    {
     "name": "stdout",
     "output_type": "stream",
     "text": [
      "     prop_country_id  weighted_avg_price_usd_without_promo\n",
      "0                  1                                224.01\n",
      "1                  2                                136.03\n",
      "2                  4                                164.53\n",
      "3                  9                                132.79\n",
      "4                 10                                 69.33\n",
      "..               ...                                   ...\n",
      "162              224                                 92.25\n",
      "163              225                                166.41\n",
      "164              226                                163.48\n",
      "165              229                                 98.60\n",
      "166              230                                240.54\n",
      "\n",
      "[167 rows x 2 columns]\n",
      "count     167.000000\n",
      "mean      269.226407\n",
      "std       358.703593\n",
      "min        40.880000\n",
      "25%       139.865000\n",
      "50%       179.800000\n",
      "75%       270.560000\n",
      "max      3452.870000\n",
      "Name: weighted_avg_price_usd_without_promo, dtype: float64\n",
      "     prop_country_id  weighted_avg_price_usd_without_promo\n",
      "27                39                               2212.84\n",
      "38                53                               1090.92\n",
      "66                92                               1003.18\n",
      "122              172                               1972.55\n",
      "143              202                               3452.87\n"
     ]
    }
   ],
   "execution_count": 84
  },
  {
   "metadata": {
    "ExecuteTime": {
     "end_time": "2025-05-15T18:36:03.420692Z",
     "start_time": "2025-05-15T18:36:03.108450Z"
    }
   },
   "cell_type": "code",
   "source": [
    "train_data[train_data['prop_country_id'].isin([53, 39, 34])][['prop_historical_price', 'price_usd_without_promo', 'srch_length_of_stay', 'prop_country_id', 'price_ratio', 'promotion_flag']]. \\\n",
    "    sort_values(by=['price_usd_without_promo', 'prop_country_id'], ascending = False)"
   ],
   "id": "9504d9af0a99586f",
   "outputs": [
    {
     "data": {
      "text/plain": [
       "         prop_historical_price  price_usd_without_promo  srch_length_of_stay  prop_country_id   price_ratio  promotion_flag\n",
       "2048373                 497.70               5481878.29                    3               39  11014.422925               1\n",
       "2048377                 249.64               3092431.00                    3               39  12387.562089               0\n",
       "2048389                 454.86               2948293.00                    3               39   6481.759223               0\n",
       "2048388                 317.35               2518300.47                    3               39   7935.404033               1\n",
       "2048383                 252.14               2283026.13                    3               39   9054.597168               1\n",
       "...                        ...                      ...                  ...              ...           ...             ...\n",
       "1708662                  75.94                     0.06                    6               39      0.000790               0\n",
       "1708663                  77.48                     0.06                    6               39      0.000774               0\n",
       "1708664                  74.44                     0.06                    6               39      0.000806               0\n",
       "1708672                  69.41                     0.06                    6               39      0.000864               0\n",
       "1708661                  54.60                     0.05                    6               39      0.000916               0\n",
       "\n",
       "[37841 rows x 6 columns]"
      ],
      "text/html": [
       "<div>\n",
       "<style scoped>\n",
       "    .dataframe tbody tr th:only-of-type {\n",
       "        vertical-align: middle;\n",
       "    }\n",
       "\n",
       "    .dataframe tbody tr th {\n",
       "        vertical-align: top;\n",
       "    }\n",
       "\n",
       "    .dataframe thead th {\n",
       "        text-align: right;\n",
       "    }\n",
       "</style>\n",
       "<table border=\"1\" class=\"dataframe\">\n",
       "  <thead>\n",
       "    <tr style=\"text-align: right;\">\n",
       "      <th></th>\n",
       "      <th>prop_historical_price</th>\n",
       "      <th>price_usd_without_promo</th>\n",
       "      <th>srch_length_of_stay</th>\n",
       "      <th>prop_country_id</th>\n",
       "      <th>price_ratio</th>\n",
       "      <th>promotion_flag</th>\n",
       "    </tr>\n",
       "  </thead>\n",
       "  <tbody>\n",
       "    <tr>\n",
       "      <th>2048373</th>\n",
       "      <td>497.70</td>\n",
       "      <td>5481878.29</td>\n",
       "      <td>3</td>\n",
       "      <td>39</td>\n",
       "      <td>11014.422925</td>\n",
       "      <td>1</td>\n",
       "    </tr>\n",
       "    <tr>\n",
       "      <th>2048377</th>\n",
       "      <td>249.64</td>\n",
       "      <td>3092431.00</td>\n",
       "      <td>3</td>\n",
       "      <td>39</td>\n",
       "      <td>12387.562089</td>\n",
       "      <td>0</td>\n",
       "    </tr>\n",
       "    <tr>\n",
       "      <th>2048389</th>\n",
       "      <td>454.86</td>\n",
       "      <td>2948293.00</td>\n",
       "      <td>3</td>\n",
       "      <td>39</td>\n",
       "      <td>6481.759223</td>\n",
       "      <td>0</td>\n",
       "    </tr>\n",
       "    <tr>\n",
       "      <th>2048388</th>\n",
       "      <td>317.35</td>\n",
       "      <td>2518300.47</td>\n",
       "      <td>3</td>\n",
       "      <td>39</td>\n",
       "      <td>7935.404033</td>\n",
       "      <td>1</td>\n",
       "    </tr>\n",
       "    <tr>\n",
       "      <th>2048383</th>\n",
       "      <td>252.14</td>\n",
       "      <td>2283026.13</td>\n",
       "      <td>3</td>\n",
       "      <td>39</td>\n",
       "      <td>9054.597168</td>\n",
       "      <td>1</td>\n",
       "    </tr>\n",
       "    <tr>\n",
       "      <th>...</th>\n",
       "      <td>...</td>\n",
       "      <td>...</td>\n",
       "      <td>...</td>\n",
       "      <td>...</td>\n",
       "      <td>...</td>\n",
       "      <td>...</td>\n",
       "    </tr>\n",
       "    <tr>\n",
       "      <th>1708662</th>\n",
       "      <td>75.94</td>\n",
       "      <td>0.06</td>\n",
       "      <td>6</td>\n",
       "      <td>39</td>\n",
       "      <td>0.000790</td>\n",
       "      <td>0</td>\n",
       "    </tr>\n",
       "    <tr>\n",
       "      <th>1708663</th>\n",
       "      <td>77.48</td>\n",
       "      <td>0.06</td>\n",
       "      <td>6</td>\n",
       "      <td>39</td>\n",
       "      <td>0.000774</td>\n",
       "      <td>0</td>\n",
       "    </tr>\n",
       "    <tr>\n",
       "      <th>1708664</th>\n",
       "      <td>74.44</td>\n",
       "      <td>0.06</td>\n",
       "      <td>6</td>\n",
       "      <td>39</td>\n",
       "      <td>0.000806</td>\n",
       "      <td>0</td>\n",
       "    </tr>\n",
       "    <tr>\n",
       "      <th>1708672</th>\n",
       "      <td>69.41</td>\n",
       "      <td>0.06</td>\n",
       "      <td>6</td>\n",
       "      <td>39</td>\n",
       "      <td>0.000864</td>\n",
       "      <td>0</td>\n",
       "    </tr>\n",
       "    <tr>\n",
       "      <th>1708661</th>\n",
       "      <td>54.60</td>\n",
       "      <td>0.05</td>\n",
       "      <td>6</td>\n",
       "      <td>39</td>\n",
       "      <td>0.000916</td>\n",
       "      <td>0</td>\n",
       "    </tr>\n",
       "  </tbody>\n",
       "</table>\n",
       "<p>37841 rows × 6 columns</p>\n",
       "</div>"
      ]
     },
     "execution_count": 85,
     "metadata": {},
     "output_type": "execute_result"
    }
   ],
   "execution_count": 85
  },
  {
   "metadata": {
    "ExecuteTime": {
     "end_time": "2025-05-15T18:36:06.434347Z",
     "start_time": "2025-05-15T18:36:06.390097Z"
    }
   },
   "cell_type": "code",
   "source": [
    "# A lot of these values are extremely high and unrealistic. I will make adjustments to observations that have a price higher than 1000. For ones that have the historical value, I will use that instead. Otherwise for NaNs I do current price / nights\n",
    "\n",
    "# This is needed for the where condition so that only these rows are affected by the calculation\n",
    "mask = train_data['price_usd_without_promo'] > 1000\n",
    "\n",
    "# doing the calculation\n",
    "train_data.loc[mask, 'price_usd_without_promo'] = np.where(\n",
    "    train_data.loc[mask, 'prop_historical_price'].notna(),\n",
    "    train_data.loc[mask, 'prop_historical_price'],\n",
    "    train_data.loc[mask, 'price_usd_without_promo'] / train_data.loc[mask, 'srch_length_of_stay']\n",
    ")"
   ],
   "id": "3ef83b78bd0f3e63",
   "outputs": [],
   "execution_count": 86
  },
  {
   "metadata": {
    "ExecuteTime": {
     "end_time": "2025-05-15T18:36:10.714573Z",
     "start_time": "2025-05-15T18:36:08.110506Z"
    }
   },
   "cell_type": "code",
   "source": [
    "# What is the average price per night for countries? Computing a weighted average between current price and nights\n",
    "weighted_avg = (\n",
    "    train_data\n",
    "    .assign(weighted_price=lambda df: df['price_usd_without_promo'] * df['srch_length_of_stay'])\n",
    "    .groupby('prop_country_id')\n",
    "    .agg(\n",
    "        total_weighted_price=('weighted_price', 'sum'),\n",
    "        total_stay=('srch_length_of_stay', 'sum')\n",
    "    )\n",
    "    .assign(weighted_avg_price_usd_without_promo=lambda df: df['total_weighted_price'] / df['total_stay'])\n",
    "    .round(2)\n",
    "    .reset_index()[['prop_country_id', 'weighted_avg_price_usd_without_promo']]\n",
    ")\n",
    "\n",
    "print(weighted_avg)\n",
    "\n",
    "# quantile statistics\n",
    "print(weighted_avg['weighted_avg_price_usd_without_promo'].describe()) # much much better than before"
   ],
   "id": "286dc4cd67caf8cc",
   "outputs": [
    {
     "name": "stdout",
     "output_type": "stream",
     "text": [
      "     prop_country_id  weighted_avg_price_usd_without_promo\n",
      "0                  1                                224.01\n",
      "1                  2                                136.03\n",
      "2                  4                                147.90\n",
      "3                  9                                132.14\n",
      "4                 10                                 69.33\n",
      "..               ...                                   ...\n",
      "162              224                                 90.77\n",
      "163              225                                153.10\n",
      "164              226                                163.48\n",
      "165              229                                 98.60\n",
      "166              230                                239.54\n",
      "\n",
      "[167 rows x 2 columns]\n",
      "count     167.000000\n",
      "mean      196.372635\n",
      "std       116.549560\n",
      "min        40.880000\n",
      "25%       136.125000\n",
      "50%       167.070000\n",
      "75%       222.550000\n",
      "max      1211.230000\n",
      "Name: weighted_avg_price_usd_without_promo, dtype: float64\n"
     ]
    }
   ],
   "execution_count": 87
  },
  {
   "metadata": {
    "ExecuteTime": {
     "end_time": "2025-05-15T18:36:14.371022Z",
     "start_time": "2025-05-15T18:36:14.355530Z"
    }
   },
   "cell_type": "code",
   "source": [
    "# Do any hotels have NaN price values?\n",
    "print(train_data[train_data['price_usd_without_promo'].isna()][['prop_historical_price', 'price_usd_without_promo', 'srch_length_of_stay', 'prop_country_id', 'price_ratio', 'promotion_flag']].head(50)) # empty dataframe"
   ],
   "id": "7e57b867c72c48ef",
   "outputs": [
    {
     "name": "stdout",
     "output_type": "stream",
     "text": [
      "Empty DataFrame\n",
      "Columns: [prop_historical_price, price_usd_without_promo, srch_length_of_stay, prop_country_id, price_ratio, promotion_flag]\n",
      "Index: []\n"
     ]
    }
   ],
   "execution_count": 88
  },
  {
   "metadata": {
    "ExecuteTime": {
     "end_time": "2025-05-15T18:36:29.831733Z",
     "start_time": "2025-05-15T18:36:22.924087Z"
    }
   },
   "cell_type": "code",
   "source": [
    "# convert the pandas dataframe back to polars\n",
    "pl_df = pl.from_pandas(train_data)\n",
    "\n",
    "# Save Polars DataFrame to a CSV file\n",
    "#pl_df.write_csv('cleaned_test_data.csv')"
   ],
   "id": "1e43955020fca461",
   "outputs": [],
   "execution_count": 89
  },
  {
   "metadata": {
    "ExecuteTime": {
     "end_time": "2025-05-15T09:52:21.773861Z",
     "start_time": "2025-05-15T09:52:21.761852Z"
    }
   },
   "cell_type": "code",
   "source": [
    "import os\n",
    "os.getcwd()"
   ],
   "id": "62fcf248a2950d4",
   "outputs": [
    {
     "data": {
      "text/plain": [
       "'/Users/valentindonchev/Library/CloudStorage/OneDrive-VrijeUniversiteitAmsterdam/Data Mining/DataMiningTechniques/Group Assignment 2/Group Assignmnet 2'"
      ]
     },
     "execution_count": 45,
     "metadata": {},
     "output_type": "execute_result"
    }
   ],
   "execution_count": 45
  },
  {
   "metadata": {},
   "cell_type": "code",
   "outputs": [],
   "execution_count": null,
   "source": "",
   "id": "2959a482ade78c8"
  }
 ],
 "metadata": {
  "kernelspec": {
   "display_name": "IntroComputationalScience",
   "language": "python",
   "name": "python3"
  },
  "language_info": {
   "codemirror_mode": {
    "name": "ipython",
    "version": 3
   },
   "file_extension": ".py",
   "mimetype": "text/x-python",
   "name": "python",
   "nbconvert_exporter": "python",
   "pygments_lexer": "ipython3",
   "version": "3.12.4"
  }
 },
 "nbformat": 4,
 "nbformat_minor": 5
}
